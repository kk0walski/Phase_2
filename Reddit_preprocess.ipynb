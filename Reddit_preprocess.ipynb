{
 "metadata": {
  "language_info": {
   "codemirror_mode": {
    "name": "ipython",
    "version": 3
   },
   "file_extension": ".py",
   "mimetype": "text/x-python",
   "name": "python",
   "nbconvert_exporter": "python",
   "pygments_lexer": "ipython3",
   "version": "3.8.5-final"
  },
  "orig_nbformat": 2,
  "kernelspec": {
   "name": "python3",
   "display_name": "Python 3.8.5 64-bit ('venv')",
   "metadata": {
    "interpreter": {
     "hash": "49fc433acc509191720515eb0de7520a44d439fbcf2aa821f660e5ded27525f0"
    }
   }
  }
 },
 "nbformat": 4,
 "nbformat_minor": 2,
 "cells": [
  {
   "cell_type": "code",
   "execution_count": 1,
   "metadata": {},
   "outputs": [],
   "source": [
    "import csv\n",
    "import pandas as pd\n",
    "import json\n",
    "import pickle\n",
    "\n",
    "def preprocess(ids, texts, indexes):\n",
    "    reasult = {'id': [], 'text': [], 'class': []}\n",
    "    if indexes != 'n/a':\n",
    "        is_hate = json.loads(indexes)\n",
    "    else:\n",
    "        is_hate = []\n",
    "    post_ids = [post_id_line[2:].strip() for post_id_line in ids.strip().split('\\n')]\n",
    "    posts = [text[2:].strip() for text in texts.strip().split('\\n')]\n",
    "    for index, row in enumerate(zip(post_ids, posts)):\n",
    "        if len(row[1]) > 0:\n",
    "            if row[0][0] == '.':\n",
    "                new_post_id = row[0][1:].strip()\n",
    "            else:\n",
    "                new_post_id = row[0].strip()\n",
    "            reasult['id'].append(new_post_id)\n",
    "            if row[1][0] == '.':\n",
    "                stripped_text = row[1][1:].strip()\n",
    "            else:\n",
    "                stripped_text = row[1].strip()\n",
    "            reasult['text'].append(stripped_text)\n",
    "            if index in is_hate:\n",
    "                reasult['class'].append(1)\n",
    "            else:\n",
    "                reasult['class'].append(2)\n",
    "    return pd.DataFrame.from_dict(reasult)\n",
    "\n",
    "\n",
    "with open('hsd/Reddit/gab.csv') as csv_file:\n",
    "    posts_df = pd.DataFrame(columns = ['id', 'text', 'class']) \n",
    "    csv_reader = csv.reader(csv_file, delimiter=',')\n",
    "    next(csv_reader, None)\n",
    "    for row in csv_reader:\n",
    "        posts_df = posts_df.append(preprocess(row[0], row[1], row[2]), ignore_index=True)\n",
    "\n",
    "with open('hsd/Reddit/reddit.csv') as csv_file:\n",
    "    csv_reader = csv.reader(csv_file, delimiter=',')\n",
    "    next(csv_reader, None)\n",
    "    for row in csv_reader:\n",
    "        posts_df = posts_df.append(preprocess(row[0], row[1], row[2]), ignore_index=True)\n",
    "\n",
    "with open('hsd/DavidsonEtAl/labeled_data.csv', 'r') as f:\n",
    "    for d in list(csv.reader(f))[1:]:\n",
    "        posts_df = posts_df.append({ 'id': '0', 'text': d[6], 'class': d[5]}, ignore_index=True)\n",
    "\n",
    "posts_df.to_csv('hsd/Reddit/clean_data.csv', index=False)\n"
   ]
  },
  {
   "cell_type": "code",
   "execution_count": 2,
   "metadata": {},
   "outputs": [],
   "source": [
    "posts = pd.read_csv('hsd/Reddit/clean_data.csv') \n",
    "\n",
    "# with open('hsd/Reddit/perfect_data.pickle', 'wb') as f:\n",
    "#     for index, row in posts.iterrows():\n",
    "#         pickle.dump((row['text'], row['class']), f)"
   ]
  },
  {
   "cell_type": "code",
   "execution_count": 3,
   "metadata": {},
   "outputs": [
    {
     "output_type": "execute_result",
     "data": {
      "text/plain": [
       "             id                                               text  class\n",
       "0      39869714  i joined gab to remind myself how retarded jew...      2\n",
       "1      39845588  This is what the left is really scared of.    ...      2\n",
       "2      39848775  That literally looks like a monkey. Why are we...      2\n",
       "3      39911017                                          Dumb Cunt      2\n",
       "4      37485560                           It makes you an asshole.      2\n",
       "...         ...                                                ...    ...\n",
       "79910         0  you's a muthaf***in lie &#8220;@LifeAsKing: @2...      1\n",
       "79911         0  you've gone and broke the wrong heart baby, an...      2\n",
       "79912         0  young buck wanna eat!!.. dat nigguh like I ain...      1\n",
       "79913         0              youu got wild bitches tellin you lies      1\n",
       "79914         0  ~~Ruffled | Ntac Eileen Dahlia - Beautiful col...      2\n",
       "\n",
       "[79915 rows x 3 columns]"
      ],
      "text/html": "<div>\n<style scoped>\n    .dataframe tbody tr th:only-of-type {\n        vertical-align: middle;\n    }\n\n    .dataframe tbody tr th {\n        vertical-align: top;\n    }\n\n    .dataframe thead th {\n        text-align: right;\n    }\n</style>\n<table border=\"1\" class=\"dataframe\">\n  <thead>\n    <tr style=\"text-align: right;\">\n      <th></th>\n      <th>id</th>\n      <th>text</th>\n      <th>class</th>\n    </tr>\n  </thead>\n  <tbody>\n    <tr>\n      <th>0</th>\n      <td>39869714</td>\n      <td>i joined gab to remind myself how retarded jew...</td>\n      <td>2</td>\n    </tr>\n    <tr>\n      <th>1</th>\n      <td>39845588</td>\n      <td>This is what the left is really scared of.    ...</td>\n      <td>2</td>\n    </tr>\n    <tr>\n      <th>2</th>\n      <td>39848775</td>\n      <td>That literally looks like a monkey. Why are we...</td>\n      <td>2</td>\n    </tr>\n    <tr>\n      <th>3</th>\n      <td>39911017</td>\n      <td>Dumb Cunt</td>\n      <td>2</td>\n    </tr>\n    <tr>\n      <th>4</th>\n      <td>37485560</td>\n      <td>It makes you an asshole.</td>\n      <td>2</td>\n    </tr>\n    <tr>\n      <th>...</th>\n      <td>...</td>\n      <td>...</td>\n      <td>...</td>\n    </tr>\n    <tr>\n      <th>79910</th>\n      <td>0</td>\n      <td>you's a muthaf***in lie &amp;#8220;@LifeAsKing: @2...</td>\n      <td>1</td>\n    </tr>\n    <tr>\n      <th>79911</th>\n      <td>0</td>\n      <td>you've gone and broke the wrong heart baby, an...</td>\n      <td>2</td>\n    </tr>\n    <tr>\n      <th>79912</th>\n      <td>0</td>\n      <td>young buck wanna eat!!.. dat nigguh like I ain...</td>\n      <td>1</td>\n    </tr>\n    <tr>\n      <th>79913</th>\n      <td>0</td>\n      <td>youu got wild bitches tellin you lies</td>\n      <td>1</td>\n    </tr>\n    <tr>\n      <th>79914</th>\n      <td>0</td>\n      <td>~~Ruffled | Ntac Eileen Dahlia - Beautiful col...</td>\n      <td>2</td>\n    </tr>\n  </tbody>\n</table>\n<p>79915 rows × 3 columns</p>\n</div>"
     },
     "metadata": {},
     "execution_count": 3
    }
   ],
   "source": [
    "posts"
   ]
  },
  {
   "cell_type": "code",
   "execution_count": null,
   "metadata": {},
   "outputs": [],
   "source": []
  }
 ]
}