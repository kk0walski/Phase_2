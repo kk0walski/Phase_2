{
 "metadata": {
  "language_info": {
   "codemirror_mode": {
    "name": "ipython",
    "version": 3
   },
   "file_extension": ".py",
   "mimetype": "text/x-python",
   "name": "python",
   "nbconvert_exporter": "python",
   "pygments_lexer": "ipython3",
   "version": "3.8.5-final"
  },
  "orig_nbformat": 2,
  "kernelspec": {
   "name": "python3",
   "display_name": "Python 3.8.5 64-bit ('venv')",
   "metadata": {
    "interpreter": {
     "hash": "49fc433acc509191720515eb0de7520a44d439fbcf2aa821f660e5ded27525f0"
    }
   }
  }
 },
 "nbformat": 4,
 "nbformat_minor": 2,
 "cells": [
  {
   "cell_type": "code",
   "execution_count": 2,
   "metadata": {},
   "outputs": [],
   "source": [
    "import csv\n",
    "import pandas as pd\n",
    "import json\n",
    "\n",
    "def preprocess(ids, texts, indexes):\n",
    "    reasult = {'id': [], 'text': [], 'class': []}\n",
    "    if indexes != 'n/a':\n",
    "        is_hate = json.loads(indexes)\n",
    "    else:\n",
    "        is_hate = []\n",
    "    post_ids = [post_id_line[2:].strip() for post_id_line in ids.strip().split('\\n')]\n",
    "    posts = [text[2:].strip() for text in texts.strip().split('\\n')]\n",
    "    for index, row in enumerate(zip(post_ids, posts)):\n",
    "        if len(row[1]) > 0:\n",
    "            if row[0][0] == '.':\n",
    "                new_post_id = row[0][1:].strip()\n",
    "            else:\n",
    "                new_post_id = row[0].strip()\n",
    "            reasult['id'].append(new_post_id)\n",
    "            if row[1][0] == '.':\n",
    "                stripped_text = row[1][1:].strip()\n",
    "            else:\n",
    "                stripped_text = row[1].strip()\n",
    "            reasult['text'].append(stripped_text)\n",
    "            if index in is_hate:\n",
    "                reasult['class'].append(1)\n",
    "            else:\n",
    "                reasult['class'].append(0)\n",
    "    return pd.DataFrame.from_dict(reasult)\n",
    "\n",
    "\n",
    "with open('hsd/Reddit/gab.csv') as csv_file:\n",
    "    posts_df = pd.DataFrame(columns = ['id', 'text', 'class']) \n",
    "    csv_reader = csv.reader(csv_file, delimiter=',')\n",
    "    next(csv_reader, None)\n",
    "    for row in csv_reader:\n",
    "        posts_df = posts_df.append(preprocess(row[0], row[1], row[2]), ignore_index=True)\n",
    "    posts_df.to_csv('hsd/Reddit/clean_gab.csv', index=False)\n"
   ]
  },
  {
   "cell_type": "code",
   "execution_count": null,
   "metadata": {},
   "outputs": [],
   "source": []
  }
 ]
}