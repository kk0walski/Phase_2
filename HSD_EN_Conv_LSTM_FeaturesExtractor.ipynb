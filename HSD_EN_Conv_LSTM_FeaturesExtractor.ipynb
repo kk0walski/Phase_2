{
 "cells": [
  {
   "cell_type": "markdown",
   "metadata": {},
   "source": [
    "# Hate Speech Detector - EN - Features extraction for Conv. & LSTM model"
   ]
  },
  {
   "cell_type": "markdown",
   "metadata": {},
   "source": [
    "Based on [this notebook](https://github.com/t-davidson/hate-speech-and-offensive-language/blob/master/classifier/final_classifier.ipynb)."
   ]
  },
  {
   "cell_type": "code",
   "execution_count": 1,
   "metadata": {},
   "outputs": [],
   "source": [
    "import os\n",
    "import pandas as pd\n",
    "import csv\n",
    "import numpy as np\n",
    "import pickle\n",
    "from klepto.archives import dir_archive\n",
    "import sys\n",
    "import nltk\n",
    "import string\n",
    "import re\n",
    "import fasttext\n",
    "from pymagnitude import *\n",
    "\n",
    "from nltk.corpus import stopwords\n",
    "from nltk.tokenize import sent_tokenize, word_tokenize\n",
    "from nltk.stem import WordNetLemmatizer\n",
    "from nltk.corpus import wordnet\n",
    "\n",
    "from tqdm.notebook import tqdm\n",
    "%matplotlib inline"
   ]
  },
  {
   "cell_type": "code",
   "execution_count": 2,
   "metadata": {},
   "outputs": [],
   "source": [
    "MODEL = 'lstm'"
   ]
  },
  {
   "cell_type": "markdown",
   "metadata": {},
   "source": [
    "## Davidson et al. data loading"
   ]
  },
  {
   "cell_type": "markdown",
   "metadata": {},
   "source": [
    "### Classes pre:\n",
    "    0 - hate speech\n",
    "    1 - offensive language\n",
    "    2 - neither"
   ]
  },
  {
   "cell_type": "code",
   "execution_count": 3,
   "metadata": {},
   "outputs": [],
   "source": [
    "if not os.path.exists('hsd/Reddit/perfect_data.pkl'):\n",
    "    tweets, labels = [], []\n",
    "    with open('hsd/Reddit/clean_data.csv', 'r') as f:\n",
    "        for d in list(csv.reader(f))[1:]:\n",
    "            tweets.append(d[1])  # tweet\n",
    "            labels.append(d[2])  # class\n",
    "    with open('hsd/Reddit/perfect_data.pkl', 'wb') as f:\n",
    "        def chcl(c):\n",
    "            return 0 if c=='2' else 1\n",
    "        labels = list(map(chcl, labels))\n",
    "        pickle.dump((tweets, labels), f)\n",
    "else:\n",
    "    with open('hsd/Reddit/perfect_data.pkl', 'rb') as f:\n",
    "        tweets, labels = pickle.load(f)"
   ]
  },
  {
   "cell_type": "markdown",
   "metadata": {},
   "source": [
    "### Classes post:\n",
    "    0 - no hate\n",
    "    1 - hate speech"
   ]
  },
  {
   "cell_type": "code",
   "execution_count": 4,
   "metadata": {},
   "outputs": [
    {
     "output_type": "stream",
     "name": "stdout",
     "text": [
      "Tweets: 55132\nLabels: 55132\n"
     ]
    }
   ],
   "source": [
    "print('Tweets: {}'.format(len(tweets)))\n",
    "print('Labels: {}'.format(len(labels)))"
   ]
  },
  {
   "cell_type": "code",
   "execution_count": 5,
   "metadata": {},
   "outputs": [
    {
     "output_type": "execute_result",
     "data": {
      "text/plain": [
       "[(\"i joined gab to remind myself how retarded jew haters are. You wouldn't be typing on your abacus without them you retard.\",\n",
       "  1),\n",
       " ('This is what the left is really scared of.    https://redd.it/9rfkts', 0),\n",
       " ('That literally looks like a monkey. Why are we supposed to pretend it’s a person bc it’s wearing a red hat?',\n",
       "  0),\n",
       " ('Dumb Cunt', 1),\n",
       " ('It makes you an asshole.', 0)]"
      ]
     },
     "metadata": {},
     "execution_count": 5
    }
   ],
   "source": [
    "list(zip(tweets[:5], labels[:5]))"
   ]
  },
  {
   "cell_type": "markdown",
   "metadata": {},
   "source": [
    "## Features extraction"
   ]
  },
  {
   "cell_type": "code",
   "execution_count": 6,
   "metadata": {},
   "outputs": [],
   "source": [
    "def pos_tagger(nltk_tag): \n",
    "    if nltk_tag.startswith('J'): \n",
    "        return wordnet.ADJ \n",
    "    elif nltk_tag.startswith('V'): \n",
    "        return wordnet.VERB \n",
    "    elif nltk_tag.startswith('N'): \n",
    "        return wordnet.NOUN \n",
    "    elif nltk_tag.startswith('R'): \n",
    "        return wordnet.ADV \n",
    "    else:           \n",
    "        return None\n",
    "\n",
    "def word_tokenization(tweet):\n",
    "    lemmatizer = WordNetLemmatizer() \n",
    "    tokens = word_tokenize(tweet)\n",
    "    words = [word for word in tokens if word.isalpha()]\n",
    "    stop_words = set(stopwords.words('english'))\n",
    "    words = [w for w in words if not w in stop_words]\n",
    "    tags = nltk.pos_tag(words)\n",
    "    words = [lemmatizer.lemmatize(w[0]) if pos_tagger(w[1]) is None else lemmatizer.lemmatize(w[0], pos_tagger(w[1])) for w in tags]\n",
    "    tags = [x[1] for x in tags]\n",
    "    return words, tags\n",
    "\n",
    "def preprocess(text_string):\n",
    "    \"\"\"\n",
    "    Accepts a text string and replaces:\n",
    "    1) urls with URLHERE\n",
    "    2) lots of whitespace with one instance\n",
    "    3) mentions with MENTIONHERE\n",
    "    4) hashtags with HASHTAGHERE\n",
    "\n",
    "    This allows us to get standardized counts of urls and mentions\n",
    "    Without caring about specific people mentioned\n",
    "    \"\"\"\n",
    "    space_pattern = '\\s+'\n",
    "    giant_url_regex = ('http[s]?://(?:[a-zA-Z]|[0-9]|[$-_@.&+]|'\n",
    "        '[!*\\(\\),]|(?:%[0-9a-fA-F][0-9a-fA-F]))+')\n",
    "    mention_regex = '@[\\w\\-]+'\n",
    "    hashtag_regex = '#[\\w\\-]+'\n",
    "    parsed_text = text_string.encode('ascii', 'ignore').decode('ascii')\n",
    "    parsed_text = re.sub(space_pattern, ' ', parsed_text)\n",
    "    parsed_text = re.sub(giant_url_regex, '', parsed_text)\n",
    "    parsed_text = re.sub(mention_regex, '', parsed_text)\n",
    "    parsed_text = parsed_text.strip('#')\n",
    "    list_words, tag_list = word_tokenization(parsed_text)\n",
    "    parsed_text = \" \".join(list_words)\n",
    "    tag_str = ' '.join(tag_list)\n",
    "    return parsed_text, tag_str\n",
    "\n",
    "def basic_tokenize(tweet):\n",
    "    tweet = \" \".join(re.split(\" \", tweet.lower())).strip()\n",
    "    return tweet.split()\n",
    "\n",
    "# def get_pos_string(tweet):\n",
    "#     text = preprocess(tweet)\n",
    "#     tokens = word_tokenize(text)\n",
    "#     tags = nltk.pos_tag(tokens)\n",
    "#     tag_list = [x[1] for x in tags]\n",
    "#     tag_str = ' '.join(tag_list)\n",
    "    \n",
    "    # return tag_str\n",
    "\n",
    "def pad_words(words, length):\n",
    "    if len(words) >= length:\n",
    "        return words[:length]\n",
    "    else:\n",
    "        additional = length - len(words)\n",
    "        return words + ['EMPTY']*additional"
   ]
  },
  {
   "cell_type": "code",
   "execution_count": 7,
   "metadata": {},
   "outputs": [],
   "source": [
    "# from keras.preprocessing.text import Tokenizer\n",
    "# from keras.preprocessing import sequence\n",
    "# max_features = 500000\n",
    "# posts = [preprocess(tweet)[0] for tweet in tweets]\n",
    "# tokenizer = Tokenizer(num_words = max_features)\n",
    "# tokenizer.fit_on_texts(list(posts))\n",
    "# tokenized_train = tokenizer.texts_to_sequences(posts)\n",
    "# word_index = tokenizer.word_index\n",
    "# print(\"dictionary size: \", len(word_index))\n",
    "# # pad_tweets = sequence.pad_sequences(tokenized_train, maxlen=19)"
   ]
  },
  {
   "cell_type": "markdown",
   "metadata": {},
   "source": [
    "### Median sentences length"
   ]
  },
  {
   "cell_type": "code",
   "execution_count": 8,
   "metadata": {},
   "outputs": [],
   "source": [
    "def median_sentences_length(data):\n",
    "    all_lengths, wt_lengths, pos_lengths = [], [], []\n",
    "    for d in data:\n",
    "        sentence, pos_string = preprocess(d)\n",
    "        # sentence = preprocess(d)\n",
    "        # pos_string = get_pos_string(d)\n",
    "        all_lengths.append(len(sentence.split(' ')))\n",
    "        all_lengths.append(len(pos_string.split(' ')))\n",
    "        wt_lengths.append(len(sentence.split(' ')))\n",
    "        pos_lengths.append(len(pos_string.split(' ')))\n",
    "    \n",
    "    return int(np.median(all_lengths)), int(np.mean(wt_lengths) + np.std(wt_lengths)), int(np.median(pos_lengths)), int(np.max(wt_lengths))"
   ]
  },
  {
   "cell_type": "code",
   "execution_count": 9,
   "metadata": {},
   "outputs": [
    {
     "output_type": "stream",
     "name": "stdout",
     "text": [
      "Optimal all length: 12\nOptimal sentence length: 48\nOptimal pos sentence length: 12\nMaximum Length: 787\n"
     ]
    }
   ],
   "source": [
    "opt_length, opt_wt_length, opt_pos_length, max_length = median_sentences_length(tweets)\n",
    "dim = 6*20 if MODEL == 'conv' else 300\n",
    "\n",
    "print('Optimal all length: {}'.format(opt_length))\n",
    "print('Optimal sentence length: {}'.format(opt_wt_length))\n",
    "print('Optimal pos sentence length: {}'.format(opt_pos_length))\n",
    "print('Maximum Length: {}'.format(max_length))"
   ]
  },
  {
   "cell_type": "markdown",
   "metadata": {},
   "source": [
    "### Supervised fastText wordtokens training"
   ]
  },
  {
   "cell_type": "code",
   "execution_count": 10,
   "metadata": {},
   "outputs": [
    {
     "output_type": "stream",
     "name": "stderr",
     "text": [
      "Warning : `load_model` does not return WordVectorModel or SupervisedModel any more, but a `FastText` object which is very similar.\n"
     ]
    }
   ],
   "source": [
    "if not os.path.exists('hsd/Reddit/fasttext.ft'):\n",
    "    with open('hsd/Reddit/fasttext.ft', 'a') as f:\n",
    "        for t, l in list(zip(tweets, labels)):\n",
    "            text = preprocess(t)[0]\n",
    "            if len(text) > 0:\n",
    "                f.write('__label__{} {}\\n'.format(l, text))\n",
    "\n",
    "# load fasttext model or train & save if none\n",
    "if os.path.exists('hsd/Reddit/fasttext_{}.bin'.format(MODEL)):\n",
    "    ft_model = fasttext.load_model('hsd/Reddit/fasttext_{}.bin'.format(MODEL))\n",
    "else:\n",
    "    ft_model = fasttext.train_supervised('hsd/Reddit/fasttext.ft',\n",
    "                                         lr=0.5, epoch=50, wordNgrams=3, dim=dim)\n",
    "    ft_model.save_model('hsd/Reddit/fasttext_{}.bin'.format(MODEL))"
   ]
  },
  {
   "cell_type": "markdown",
   "metadata": {},
   "source": [
    "### Wordtoken features"
   ]
  },
  {
   "cell_type": "code",
   "execution_count": 11,
   "metadata": {},
   "outputs": [],
   "source": [
    "def get_wordtoken_fts(data, length):\n",
    "    \n",
    "    sentences_words = []\n",
    "    for d in data:\n",
    "        sentence = preprocess(d)[0]\n",
    "        sentences_words.append(sentence.split(' '))\n",
    "    \n",
    "    sentences_words = [pad_words(sw, length) for sw in sentences_words]\n",
    "    vecs = Magnitude(MagnitudeUtils.download_model('http://magnitude.plasticity.ai/fasttext/medium/crawl-300d-2M.magnitude'))\n",
    "    \n",
    "    ft_matrices = []\n",
    "    for sw in sentences_words:\n",
    "        ft_matrix = []\n",
    "        for w in sw:\n",
    "            ft_matrix.append(vecs.query(w))\n",
    "        ft_matrices.append(ft_matrix)\n",
    "    \n",
    "    return ft_matrices"
   ]
  },
  {
   "cell_type": "code",
   "execution_count": 12,
   "metadata": {},
   "outputs": [],
   "source": [
    "wordtoken_features = get_wordtoken_fts(tweets, opt_wt_length)\n",
    "ft_model = None"
   ]
  },
  {
   "cell_type": "code",
   "execution_count": 13,
   "metadata": {},
   "outputs": [
    {
     "output_type": "execute_result",
     "data": {
      "text/plain": [
       "02, -1.353419e-01, -1.226980e-02, -4.472660e-02,\n",
       "        -2.709990e-02, -1.305760e-02, -1.012307e-01, -4.061040e-02,\n",
       "        -3.842430e-02, -5.398310e-02, -9.037890e-02, -8.273740e-02,\n",
       "        -1.813880e-02,  6.347600e-02,  4.027560e-02, -2.903000e-02,\n",
       "         6.583930e-02, -2.150660e-02,  1.118660e-02, -1.063510e-02,\n",
       "        -2.668630e-02, -2.040369e-01, -2.841940e-02,  1.101327e-01,\n",
       "         9.693720e-02, -6.322000e-03, -4.594770e-02,  6.676500e-03,\n",
       "         1.398300e-03,  5.055630e-02, -1.398300e-03,  1.970000e-05,\n",
       "        -3.933030e-02,  1.697680e-02,  1.268340e-02, -8.669600e-02,\n",
       "        -8.850790e-02,  7.340210e-02,  3.470200e-02, -2.838000e-02,\n",
       "         1.565730e-02, -7.631690e-02, -7.880000e-05, -1.867060e-02,\n",
       "        -5.837500e-02, -5.467240e-02,  7.570640e-02,  8.714900e-02,\n",
       "        -1.476117e-01, -8.525830e-02,  4.135900e-03,  7.255520e-02,\n",
       "         4.005900e-02, -3.629730e-02,  1.191530e-02,  5.252570e-02,\n",
       "         8.795650e-02,  5.457400e-02, -1.208072e-01,  3.354000e-02,\n",
       "         4.057100e-03,  1.076315e-01,  3.976360e-02,  4.391900e-03,\n",
       "         6.879350e-02,  4.618400e-02, -5.750800e-03,  6.725730e-02,\n",
       "         3.958600e-03,  4.732630e-02,  1.440075e-01,  6.727700e-02,\n",
       "         7.015250e-02, -2.442100e-03, -3.576550e-02, -5.508600e-02,\n",
       "        -2.849820e-02,  5.136370e-02, -6.036420e-02,  1.081240e-02,\n",
       "        -1.368780e-02,  6.597720e-02,  7.464290e-02, -3.958600e-03,\n",
       "        -3.870010e-02, -6.873400e-03, -1.488130e-01, -6.515000e-02,\n",
       "         3.241750e-02, -1.085180e-02,  3.326430e-02,  4.945340e-02,\n",
       "        -5.609050e-02, -5.593290e-02, -4.344650e-02,  2.704080e-02,\n",
       "         3.566710e-02, -2.987680e-02,  7.162960e-02, -1.612990e-02,\n",
       "         8.527800e-02, -6.024600e-02, -9.313620e-02,  5.327410e-02,\n",
       "        -3.724260e-02, -1.290396e-01, -1.579317e-01,  5.713430e-02,\n",
       "         2.562280e-02, -7.625780e-02,  1.792220e-02, -1.634265e-01,\n",
       "        -1.225009e-01,  3.436720e-02, -1.414080e-02, -3.133420e-02,\n",
       "        -4.252080e-02,  5.469210e-02,  3.822740e-02, -5.770540e-02,\n",
       "         6.091570e-02,  5.160010e-02,  9.096970e-02,  1.699650e-02,\n",
       "         1.053670e-02, -1.463320e-02, -2.333820e-02, -3.304770e-02,\n",
       "         5.207270e-02,  3.702600e-02, -4.579010e-02, -5.081200e-03,\n",
       "         3.161000e-02, -3.505650e-02,  1.853270e-02,  1.719350e-02,\n",
       "        -4.809440e-02, -8.919720e-02, -5.132430e-02,  6.459860e-02,\n",
       "         1.934020e-02, -4.614460e-02, -5.081230e-02,  5.158040e-02,\n",
       "         8.992590e-02,  3.722300e-03, -1.752800e-03, -5.319530e-02,\n",
       "        -1.058589e-01, -2.757260e-02,  1.395368e-01,  2.507130e-02,\n",
       "         7.822730e-02,  6.503180e-02,  1.195470e-02, -1.855240e-02,\n",
       "         7.759700e-03, -9.039900e-03,  8.074800e-03,  3.936970e-02,\n",
       "         2.971930e-02, -4.846860e-02, -1.772500e-03,  1.287638e-01,\n",
       "         4.228450e-02,  1.398320e-02,  3.068430e-02,  7.082210e-02,\n",
       "         4.372220e-02,  1.119052e-01,  5.711500e-03,  4.781870e-02,\n",
       "         1.664200e-02,  1.741010e-02,  8.049220e-02, -4.429330e-02,\n",
       "        -4.961090e-02, -5.839470e-02,  3.202360e-02, -9.752810e-02,\n",
       "         2.089610e-02,  5.012300e-02, -6.046300e-03,  1.164744e-01,\n",
       "        -4.387980e-02,  1.894630e-02, -7.377630e-02, -5.701610e-02,\n",
       "         2.323970e-02,  9.867000e-03, -3.834560e-02,  1.536382e-01,\n",
       "         6.193980e-02,  3.838490e-02, -4.718850e-02,  1.672080e-02,\n",
       "        -5.299840e-02,  5.843410e-02,  2.698170e-02,  2.140810e-02,\n",
       "         1.677990e-02, -5.160000e-03,  5.821750e-02, -3.779410e-02,\n",
       "         7.720320e-02, -2.879360e-02,  1.443620e-02, -9.416030e-02,\n",
       "        -3.306740e-02,  3.866070e-02,  1.020972e-01,  1.375083e-01,\n",
       "         8.074800e-03,  4.748390e-02,  2.385030e-02,  2.475620e-02,\n",
       "         3.948780e-02,  1.455440e-02,  4.521900e-02,  7.629720e-02,\n",
       "         5.258500e-03,  9.748900e-03,  1.904480e-02, -8.813370e-02,\n",
       "        -2.422400e-03,  7.208300e-03, -1.683900e-02, -1.065480e-02,\n",
       "         4.594770e-02,  8.515980e-02,  3.099940e-02, -2.213680e-02,\n",
       "         3.753810e-02, -3.940000e-05,  9.299830e-02, -6.416530e-02,\n",
       "        -7.858200e-03,  8.852760e-02, -2.335790e-02, -1.284090e-02,\n",
       "        -2.507130e-02, -6.115200e-02,  5.534200e-03, -9.835530e-02,\n",
       "         1.187590e-02,  9.961570e-02,  6.696200e-03,  1.077300e-02,\n",
       "         5.859170e-02,  6.975860e-02, -5.609050e-02,  4.943370e-02,\n",
       "        -1.679960e-02, -1.067255e-01, -3.210230e-02,  2.337760e-02,\n",
       "         2.304300e-03,  8.272000e-04,  4.155600e-03, -6.637100e-03,\n",
       "         2.400780e-02, -9.234840e-02, -2.215650e-02,  5.778420e-02,\n",
       "         4.234360e-02, -4.675520e-02, -6.761190e-02, -1.794190e-02,\n",
       "        -3.507620e-02, -2.158540e-02, -5.130470e-02,  8.021650e-02],\n",
       "       dtype=float32),\n",
       " array([ 1.319500e-03, -4.053170e-02, -3.901520e-02,  3.029040e-02,\n",
       "         5.085170e-02,  3.958630e-02,  3.214170e-02, -4.588860e-02,\n",
       "         3.852280e-02, -8.628240e-02,  5.924160e-02,  7.428840e-02,\n",
       "         4.189060e-02, -4.937460e-02, -9.591300e-03, -9.256500e-03,\n",
       "        -2.631210e-02, -3.456420e-02,  2.280640e-02, -1.333330e-02,\n",
       "         3.094030e-02, -8.389900e-03,  4.924000e-04,  6.193980e-02,\n",
       "        -1.240800e-03,  4.510100e-03, -4.108310e-02, -9.498750e-02,\n",
       "        -4.996540e-02, -1.353419e-01, -1.226980e-02, -4.472660e-02,\n",
       "        -2.709990e-02, -1.305760e-02, -1.012307e-01, -4.061040e-02,\n",
       "        -3.842430e-02, -5.398310e-02, -9.037890e-02, -8.273740e-02,\n",
       "        -1.813880e-02,  6.347600e-02,  4.027560e-02, -2.903000e-02,\n",
       "         6.583930e-02, -2.150660e-02,  1.118660e-02, -1.063510e-02,\n",
       "        -2.668630e-02, -2.040369e-01, -2.841940e-02,  1.101327e-01,\n",
       "         9.693720e-02, -6.322000e-03, -4.594770e-02,  6.676500e-03,\n",
       "         1.398300e-03,  5.055630e-02, -1.398300e-03,  1.970000e-05,\n",
       "        -3.933030e-02,  1.697680e-02,  1.268340e-02, -8.669600e-02,\n",
       "        -8.850790e-02,  7.340210e-02,  3.470200e-02, -2.838000e-02,\n",
       "         1.565730e-02, -7.631690e-02, -7.880000e-05, -1.867060e-02,\n",
       "        -5.837500e-02, -5.467240e-02,  7.570640e-02,  8.714900e-02,\n",
       "        -1.476117e-01, -8.525830e-02,  4.135900e-03,  7.255520e-02,\n",
       "         4.005900e-02, -3.629730e-02,  1.191530e-02,  5.252570e-02,\n",
       "         8.795650e-02,  5.457400e-02, -1.208072e-01,  3.354000e-02,\n",
       "         4.057100e-03,  1.076315e-01,  3.976360e-02,  4.391900e-03,\n",
       "         6.879350e-02,  4.618400e-02, -5.750800e-03,  6.725730e-02,\n",
       "         3.958600e-03,  4.732630e-02,  1.440075e-01,  6.727700e-02,\n",
       "         7.015250e-02, -2.442100e-03, -3.576550e-02, -5.508600e-02,\n",
       "        -2.849820e-02,  5.136370e-02, -6.036420e-02,  1.081240e-02,\n",
       "        -1.368780e-02,  6.597720e-02,  7.464290e-02, -3.958600e-03,\n",
       "        -3.870010e-02, -6.873400e-03, -1.488130e-01, -6.515000e-02,\n",
       "         3.241750e-02, -1.085180e-02,  3.326430e-02,  4.945340e-02,\n",
       "        -5.609050e-02, -5.593290e-02, -4.344650e-02,  2.704080e-02,\n",
       "         3.566710e-02, -2.987680e-02,  7.162960e-02, -1.612990e-02,\n",
       "         8.527800e-02, -6.024600e-02, -9.313620e-02,  5.327410e-02,\n",
       "        -3.724260e-02, -1.290396e-01, -1.579317e-01,  5.713430e-02,\n",
       "         2.562280e-02, -7.625780e-02,  1.792220e-02, -1.634265e-01,\n",
       "        -1.225009e-01,  3.436720e-02, -1.414080e-02, -3.133420e-02,\n",
       "        -4.252080e-02,  5.469210e-02,  3.822740e-02, -5.770540e-02,\n",
       "         6.091570e-02,  5.160010e-02,  9.096970e-02,  1.699650e-02,\n",
       "         1.053670e-02, -1.463320e-02, -2.333820e-02, -3.304770e-02,\n",
       "         5.207270e-02,  3.702600e-02, -4.579010e-02, -5.081200e-03,\n",
       "         3.161000e-02, -3.505650e-02,  1.853270e-02,  1.719350e-02,\n",
       "        -4.809440e-02, -8.919720e-02, -5.132430e-02,  6.459860e-02,\n",
       "         1.934020e-02, -4.614460e-02, -5.081230e-02,  5.158040e-02,\n",
       "         8.992590e-02,  3.722300e-03, -1.752800e-03, -5.319530e-02,\n",
       "        -1.058589e-01, -2.757260e-02,  1.395368e-01,  2.507130e-02,\n",
       "         7.822730e-02,  6.503180e-02,  1.195470e-02, -1.855240e-02,\n",
       "         7.759700e-03, -9.039900e-03,  8.074800e-03,  3.936970e-02,\n",
       "         2.971930e-02, -4.846860e-02, -1.772500e-03,  1.287638e-01,\n",
       "         4.228450e-02,  1.398320e-02,  3.068430e-02,  7.082210e-02,\n",
       "         4.372220e-02,  1.119052e-01,  5.711500e-03,  4.781870e-02,\n",
       "         1.664200e-02,  1.741010e-02,  8.049220e-02, -4.429330e-02,\n",
       "        -4.961090e-02, -5.839470e-02,  3.202360e-02, -9.752810e-02,\n",
       "         2.089610e-02,  5.012300e-02, -6.046300e-03,  1.164744e-01,\n",
       "        -4.387980e-02,  1.894630e-02, -7.377630e-02, -5.701610e-02,\n",
       "         2.323970e-02,  9.867000e-03, -3.834560e-02,  1.536382e-01,\n",
       "         6.193980e-02,  3.838490e-02, -4.718850e-02,  1.672080e-02,\n",
       "        -5.299840e-02,  5.843410e-02,  2.698170e-02,  2.140810e-02,\n",
       "         1.677990e-02, -5.160000e-03,  5.821750e-02, -3.779410e-02,\n",
       "         7.720320e-02, -2.879360e-02,  1.443620e-02, -9.416030e-02,\n",
       "        -3.306740e-02,  3.866070e-02,  1.020972e-01,  1.375083e-01,\n",
       "         8.074800e-03,  4.748390e-02,  2.385030e-02,  2.475620e-02,\n",
       "         3.948780e-02,  1.455440e-02,  4.521900e-02,  7.629720e-02,\n",
       "         5.258500e-03,  9.748900e-03,  1.904480e-02, -8.813370e-02,\n",
       "        -2.422400e-03,  7.208300e-03, -1.683900e-02, -1.065480e-02,\n",
       "         4.594770e-02,  8.515980e-02,  3.099940e-02, -2.213680e-02,\n",
       "         3.753810e-02, -3.940000e-05,  9.299830e-02, -6.416530e-02,\n",
       "        -7.858200e-03,  8.852760e-02, -2.335790e-02, -1.284090e-02,\n",
       "        -2.507130e-02, -6.115200e-02,  5.534200e-03, -9.835530e-02,\n",
       "         1.187590e-02,  9.961570e-02,  6.696200e-03,  1.077300e-02,\n",
       "         5.859170e-02,  6.975860e-02, -5.609050e-02,  4.943370e-02,\n",
       "        -1.679960e-02, -1.067255e-01, -3.210230e-02,  2.337760e-02,\n",
       "         2.304300e-03,  8.272000e-04,  4.155600e-03, -6.637100e-03,\n",
       "         2.400780e-02, -9.234840e-02, -2.215650e-02,  5.778420e-02,\n",
       "         4.234360e-02, -4.675520e-02, -6.761190e-02, -1.794190e-02,\n",
       "        -3.507620e-02, -2.158540e-02, -5.130470e-02,  8.021650e-02],\n",
       "       dtype=float32),\n",
       " array([ 1.319500e-03, -4.053170e-02, -3.901520e-02,  3.029040e-02,\n",
       "         5.085170e-02,  3.958630e-02,  3.214170e-02, -4.588860e-02,\n",
       "         3.852280e-02, -8.628240e-02,  5.924160e-02,  7.428840e-02,\n",
       "         4.189060e-02, -4.937460e-02, -9.591300e-03, -9.256500e-03,\n",
       "        -2.631210e-02, -3.456420e-02,  2.280640e-02, -1.333330e-02,\n",
       "         3.094030e-02, -8.389900e-03,  4.924000e-04,  6.193980e-02,\n",
       "        -1.240800e-03,  4.510100e-03, -4.108310e-02, -9.498750e-02,\n",
       "        -4.996540e-02, -1.353419e-01, -1.226980e-02, -4.472660e-02,\n",
       "        -2.709990e-02, -1.305760e-02, -1.012307e-01, -4.061040e-02,\n",
       "        -3.842430e-02, -5.398310e-02, -9.037890e-02, -8.273740e-02,\n",
       "        -1.813880e-02,  6.347600e-02,  4.027560e-02, -2.903000e-02,\n",
       "         6.583930e-02, -2.150660e-02,  1.118660e-02, -1.063510e-02,\n",
       "        -2.668630e-02, -2.040369e-01, -2.841940e-02,  1.101327e-01,\n",
       "         9.693720e-02, -6.322000e-03, -4.594770e-02,  6.676500e-03,\n",
       "         1.398300e-03,  5.055630e-02, -1.398300e-03,  1.970000e-05,\n",
       "        -3.933030e-02,  1.697680e-02,  1.268340e-02, -8.669600e-02,\n",
       "        -8.850790e-02,  7.340210e-02,  3.470200e-02, -2.838000e-02,\n",
       "         1.565730e-02, -7.631690e-02, -7.880000e-05, -1.867060e-02,\n",
       "        -5.837500e-02, -5.467240e-02,  7.570640e-02,  8.714900e-02,\n",
       "        -1.476117e-01, -8.525830e-02,  4.135900e-03,  7.255520e-02,\n",
       "         4.005900e-02, -3.629730e-02,  1.191530e-02,  5.252570e-02,\n",
       "         8.795650e-02,  5.457400e-02, -1.208072e-01,  3.354000e-02,\n",
       "         4.057100e-03,  1.076315e-01,  3.976360e-02,  4.391900e-03,\n",
       "         6.879350e-02,  4.618400e-02, -5.750800e-03,  6.725730e-02,\n",
       "         3.958600e-03,  4.732630e-02,  1.440075e-01,  6.727700e-02,\n",
       "         7.015250e-02, -2.442100e-03, -3.576550e-02, -5.508600e-02,\n",
       "        -2.849820e-02,  5.136370e-02, -6.036420e-02,  1.081240e-02,\n",
       "        -1.368780e-02,  6.597720e-02,  7.464290e-02, -3.958600e-03,\n",
       "        -3.870010e-02, -6.873400e-03, -1.488130e-01, -6.515000e-02,\n",
       "         3.241750e-02, -1.085180e-02,  3.326430e-02,  4.945340e-02,\n",
       "        -5.609050e-02, -5.593290e-02, -4.344650e-02,  2.704080e-02,\n",
       "         3.566710e-02, -2.987680e-02,  7.162960e-02, -1.612990e-02,\n",
       "         8.527800e-02, -6.024600e-02, -9.313620e-02,  5.327410e-02,\n",
       "        -3.724260e-02, -1.290396e-01, -1.579317e-01,  5.713430e-02,\n",
       "         2.562280e-02, -7.625780e-02,  1.792220e-02, -1.634265e-01,\n",
       "        -1.225009e-01,  3.436720e-02, -1.414080e-02, -3.133420e-02,\n",
       "        -4.252080e-02,  5.469210e-02,  3.822740e-02, -5.770540e-02,\n",
       "         6.091570e-02,  5.160010e-02,  9.096970e-02,  1.699650e-02,\n",
       "         1.053670e-02, -1.463320e-02, -2.333820e-02, -3.304770e-02,\n",
       "         5.207270e-02,  3.702600e-02, -4.579010e-02, -5.081200e-03,\n",
       "         3.161000e-02, -3.505650e-02,  1.853270e-02,  1.719350e-02,\n",
       "        -4.809440e-02, -8.919720e-02, -5.132430e-02,  6.459860e-02,\n",
       "         1.934020e-02, -4.614460e-02, -5.081230e-02,  5.158040e-02,\n",
       "         8.992590e-02,  3.722300e-03, -1.752800e-03, -5.319530e-02,\n",
       "        -1.058589e-01, -2.757260e-02,  1.395368e-01,  2.507130e-02,\n",
       "         7.822730e-02,  6.503180e-02,  1.195470e-02, -1.855240e-02,\n",
       "         7.759700e-03, -9.039900e-03,  8.074800e-03,  3.936970e-02,\n",
       "         2.971930e-02, -4.846860e-02, -1.772500e-03,  1.287638e-01,\n",
       "         4.228450e-02,  1.398320e-02,  3.068430e-02,  7.082210e-02,\n",
       "         4.372220e-02,  1.119052e-01,  5.711500e-03,  4.781870e-02,\n",
       "         1.664200e-02,  1.741010e-02,  8.049220e-02, -4.429330e-02,\n",
       "        -4.961090e-02, -5.839470e-02,  3.202360e-02, -9.752810e-02,\n",
       "         2.089610e-02,  5.012300e-02, -6.046300e-03,  1.164744e-01,\n",
       "        -4.387980e-02,  1.894630e-02, -7.377630e-02, -5.701610e-02,\n",
       "         2.323970e-02,  9.867000e-03, -3.834560e-02,  1.536382e-01,\n",
       "         6.193980e-02,  3.838490e-02, -4.718850e-02,  1.672080e-02,\n",
       "        -5.299840e-02,  5.843410e-02,  2.698170e-02,  2.140810e-02,\n",
       "         1.677990e-02, -5.160000e-03,  5.821750e-02, -3.779410e-02,\n",
       "         7.720320e-02, -2.879360e-02,  1.443620e-02, -9.416030e-02,\n",
       "        -3.306740e-02,  3.866070e-02,  1.020972e-01,  1.375083e-01,\n",
       "         8.074800e-03,  4.748390e-02,  2.385030e-02,  2.475620e-02,\n",
       "         3.948780e-02,  1.455440e-02,  4.521900e-02,  7.629720e-02,\n",
       "         5.258500e-03,  9.748900e-03,  1.904480e-02, -8.813370e-02,\n",
       "        -2.422400e-03,  7.208300e-03, -1.683900e-02, -1.065480e-02,\n",
       "         4.594770e-02,  8.515980e-02,  3.099940e-02, -2.213680e-02,\n",
       "         3.753810e-02, -3.940000e-05,  9.299830e-02, -6.416530e-02,\n",
       "        -7.858200e-03,  8.852760e-02, -2.335790e-02, -1.284090e-02,\n",
       "        -2.507130e-02, -6.115200e-02,  5.534200e-03, -9.835530e-02,\n",
       "         1.187590e-02,  9.961570e-02,  6.696200e-03,  1.077300e-02,\n",
       "         5.859170e-02,  6.975860e-02, -5.609050e-02,  4.943370e-02,\n",
       "        -1.679960e-02, -1.067255e-01, -3.210230e-02,  2.337760e-02,\n",
       "         2.304300e-03,  8.272000e-04,  4.155600e-03, -6.637100e-03,\n",
       "         2.400780e-02, -9.234840e-02, -2.215650e-02,  5.778420e-02,\n",
       "         4.234360e-02, -4.675520e-02, -6.761190e-02, -1.794190e-02,\n",
       "        -3.507620e-02, -2.158540e-02, -5.130470e-02,  8.021650e-02],\n",
       "       dtype=float32),\n",
       " array([ 1.319500e-03, -4.053170e-02, -3.901520e-02,  3.029040e-02,\n",
       "         5.085170e-02,  3.958630e-02,  3.214170e-02, -4.588860e-02,\n",
       "         3.852280e-02, -8.628240e-02,  5.924160e-02,  7.428840e-02,\n",
       "         4.189060e-02, -4.937460e-02, -9.591300e-03, -9.256500e-03,\n",
       "        -2.631210e-02, -3.456420e-02,  2.280640e-02, -1.333330e-02,\n",
       "         3.094030e-02, -8.389900e-03,  4.924000e-04,  6.193980e-02,\n",
       "        -1.240800e-03,  4.510100e-03, -4.108310e-02, -9.498750e-02,\n",
       "        -4.996540e-02, -1.353419e-01, -1.226980e-02, -4.472660e-02,\n",
       "        -2.709990e-02, -1.305760e-02, -1.012307e-01, -4.061040e-02,\n",
       "        -3.842430e-02, -5.398310e-02, -9.037890e-02, -8.273740e-02,\n",
       "        -1.813880e-02,  6.347600e-02,  4.027560e-02, -2.903000e-02,\n",
       "         6.583930e-02, -2.150660e-02,  1.118660e-02, -1.063510e-02,\n",
       "        -2.668630e-02, -2.040369e-01, -2.841940e-02,  1.101327e-01,\n",
       "         9.693720e-02, -6.322000e-03, -4.594770e-02,  6.676500e-03,\n",
       "         1.398300e-03,  5.055630e-02, -1.398300e-03,  1.970000e-05,\n",
       "        -3.933030e-02,  1.697680e-02,  1.268340e-02, -8.669600e-02,\n",
       "        -8.850790e-02,  7.340210e-02,  3.470200e-02, -2.838000e-02,\n",
       "         1.565730e-02, -7.631690e-02, -7.880000e-05, -1.867060e-02,\n",
       "        -5.837500e-02, -5.467240e-02,  7.570640e-02,  8.714900e-02,\n",
       "        -1.476117e-01, -8.525830e-02,  4.135900e-03,  7.255520e-02,\n",
       "         4.005900e-02, -3.629730e-02,  1.191530e-02,  5.252570e-02,\n",
       "         8.795650e-02,  5.457400e-02, -1.208072e-01,  3.354000e-02,\n",
       "         4.057100e-03,  1.076315e-01,  3.976360e-02,  4.391900e-03,\n",
       "         6.879350e-02,  4.618400e-02, -5.750800e-03,  6.725730e-02,\n",
       "         3.958600e-03,  4.732630e-02,  1.440075e-01,  6.727700e-02,\n",
       "         7.015250e-02, -2.442100e-03, -3.576550e-02, -5.508600e-02,\n",
       "        -2.849820e-02,  5.136370e-02, -6.036420e-02,  1.081240e-02,\n",
       "        -1.368780e-02,  6.597720e-02,  7.464290e-02, -3.958600e-03,\n",
       "        -3.870010e-02, -6.873400e-03, -1.488130e-01, -6.515000e-02,\n",
       "         3.241750e-02, -1.085180e-02,  3.326430e-02,  4.945340e-02,\n",
       "        -5.609050e-02, -5.593290e-02, -4.344650e-02,  2.704080e-02,\n",
       "         3.566710e-02, -2.987680e-02,  7.162960e-02, -1.612990e-02,\n",
       "         8.527800e-02, -6.024600e-02, -9.313620e-02,  5.327410e-02,\n",
       "        -3.724260e-02, -1.290396e-01, -1.579317e-01,  5.713430e-02,\n",
       "         2.562280e-02, -7.625780e-02,  1.792220e-02, -1.634265e-01,\n",
       "        -1.225009e-01,  3.436720e-02, -1.414080e-02, -3.133420e-02,\n",
       "        -4.252080e-02,  5.469210e-02,  3.822740e-02, -5.770540e-02,\n",
       "         6.091570e-02,  5.160010e-02,  9.096970e-02,  1.699650e-02,\n",
       "         1.053670e-02, -1.463320e-02, -2.333820e-02, -3.304770e-02,\n",
       "         5.207270e-02,  3.702600e-02, -4.579010e-02, -5.081200e-03,\n",
       "         3.161000e-02, -3.505650e-02,  1.853270e-02,  1.719350e-02,\n",
       "        -4.809440e-02, -8.919720e-02, -5.132430e-02,  6.459860e-02,\n",
       "         1.934020e-02, -4.614460e-02, -5.081230e-02,  5.158040e-02,\n",
       "         8.992590e-02,  3.722300e-03, -1.752800e-03, -5.319530e-02,\n",
       "        -1.058589e-01, -2.757260e-02,  1.395368e-01,  2.507130e-02,\n",
       "         7.822730e-02,  6.503180e-02,  1.195470e-02, -1.855240e-02,\n",
       "         7.759700e-03, -9.039900e-03,  8.074800e-03,  3.936970e-02,\n",
       "         2.971930e-02, -4.846860e-02, -1.772500e-03,  1.287638e-01,\n",
       "         4.228450e-02,  1.398320e-02,  3.068430e-02,  7.082210e-02,\n",
       "         4.372220e-02,  1.119052e-01,  5.711500e-03,  4.781870e-02,\n",
       "         1.664200e-02,  1.741010e-02,  8.049220e-02, -4.429330e-02,\n",
       "        -4.961090e-02, -5.839470e-02,  3.202360e-02, -9.752810e-02,\n",
       "         2.089610e-02,  5.012300e-02, -6.046300e-03,  1.164744e-01,\n",
       "        -4.387980e-02,  1.894630e-02, -7.377630e-02, -5.701610e-02,\n",
       "         2.323970e-02,  9.867000e-03, -3.834560e-02,  1.536382e-01,\n",
       "         6.193980e-02,  3.838490e-02, -4.718850e-02,  1.672080e-02,\n",
       "        -5.299840e-02,  5.843410e-02,  2.698170e-02,  2.140810e-02,\n",
       "         1.677990e-02, -5.160000e-03,  5.821750e-02, -3.779410e-02,\n",
       "         7.720320e-02, -2.879360e-02,  1.443620e-02, -9.416030e-02,\n",
       "        -3.306740e-02,  3.866070e-02,  1.020972e-01,  1.375083e-01,\n",
       "         8.074800e-03,  4.748390e-02,  2.385030e-02,  2.475620e-02,\n",
       "         3.948780e-02,  1.455440e-02,  4.521900e-02,  7.629720e-02,\n",
       "         5.258500e-03,  9.748900e-03,  1.904480e-02, -8.813370e-02,\n",
       "        -2.422400e-03,  7.208300e-03, -1.683900e-02, -1.065480e-02,\n",
       "         4.594770e-02,  8.515980e-02,  3.099940e-02, -2.213680e-02,\n",
       "         3.753810e-02, -3.940000e-05,  9.299830e-02, -6.416530e-02,\n",
       "        -7.858200e-03,  8.852760e-02, -2.335790e-02, -1.284090e-02,\n",
       "        -2.507130e-02, -6.115200e-02,  5.534200e-03, -9.835530e-02,\n",
       "         1.187590e-02,  9.961570e-02,  6.696200e-03,  1.077300e-02,\n",
       "         5.859170e-02,  6.975860e-02, -5.609050e-02,  4.943370e-02,\n",
       "        -1.679960e-02, -1.067255e-01, -3.210230e-02,  2.337760e-02,\n",
       "         2.304300e-03,  8.272000e-04,  4.155600e-03, -6.637100e-03,\n",
       "         2.400780e-02, -9.234840e-02, -2.215650e-02,  5.778420e-02,\n",
       "         4.234360e-02, -4.675520e-02, -6.761190e-02, -1.794190e-02,\n",
       "        -3.507620e-02, -2.158540e-02, -5.130470e-02,  8.021650e-02],\n",
       "       dtype=float32)]"
      ]
     },
     "metadata": {},
     "execution_count": 13
    }
   ],
   "source": [
    "wordtoken_features[0]"
   ]
  },
  {
   "cell_type": "markdown",
   "metadata": {},
   "source": [
    "### Supervised fastText pos training"
   ]
  },
  {
   "cell_type": "code",
   "execution_count": 14,
   "metadata": {},
   "outputs": [
    {
     "output_type": "stream",
     "name": "stderr",
     "text": [
      "Warning : `load_model` does not return WordVectorModel or SupervisedModel any more, but a `FastText` object which is very similar.\n"
     ]
    }
   ],
   "source": [
    "# if not os.path.exists('hsd/Reddit/fasttext_pos.ft'):\n",
    "#     with open('hsd/Reddit/fasttext_pos.ft', 'a') as f:\n",
    "#         for t, l in list(zip(tweets, labels)):\n",
    "#             f.write('__label__{} {}\\n'.format(l, preprocess(t)[1]))\n",
    "\n",
    "# # load fasttext pos model or train & save if none\n",
    "# if os.path.exists('hsd/Reddit/fasttext_pos_{}.bin'.format(MODEL)):\n",
    "#     ft_pos_model = fasttext.load_model('hsd/Reddit/fasttext_pos_{}.bin'.format(MODEL))\n",
    "# else:\n",
    "#     ft_pos_model = fasttext.train_supervised('hsd/Reddit/fasttext_pos.ft',\n",
    "#                                              lr=0.5, epoch=50, wordNgrams=3, dim=dim)\n",
    "#     ft_pos_model.save_model('hsd/Reddit/fasttext_pos_{}.bin'.format(MODEL))"
   ]
  },
  {
   "cell_type": "markdown",
   "metadata": {},
   "source": [
    "### Part of speech (PoS) features"
   ]
  },
  {
   "cell_type": "code",
   "execution_count": 15,
   "metadata": {},
   "outputs": [],
   "source": [
    "def get_pos_fts(data, length):\n",
    "\n",
    "    #Get POS tags for tweets and save as a string\n",
    "    pos_sentences = []\n",
    "    for d in data:\n",
    "        pos_string = preprocess(d)[1]\n",
    "        pos_sentences.append(pos_string)\n",
    "        \n",
    "        \n",
    "    pos_tags = []\n",
    "    for ps in pos_sentences:\n",
    "        pos_tags.append(ps.split(' '))\n",
    "    \n",
    "    pos_tags = [pad_words(pt, length) for pt in pos_tags]\n",
    "    \n",
    "    ft_matrices = []\n",
    "    for pt in pos_tags:\n",
    "        ft_matrix = []\n",
    "        for t in pt:\n",
    "            ft_matrix.append(ft_pos_model[t])\n",
    "        ft_matrices.append(ft_matrix)\n",
    "    \n",
    "    return ft_matrices"
   ]
  },
  {
   "cell_type": "code",
   "execution_count": 16,
   "metadata": {},
   "outputs": [],
   "source": [
    "# pos_features = get_pos_fts(tweets, opt_pos_length)\n",
    "tweets = None\n",
    "# ft_pos_model = None"
   ]
  },
  {
   "cell_type": "code",
   "execution_count": 17,
   "metadata": {},
   "outputs": [],
   "source": [
    "# pos_features[0]"
   ]
  },
  {
   "cell_type": "code",
   "execution_count": 18,
   "metadata": {},
   "outputs": [
    {
     "output_type": "execute_result",
     "data": {
      "text/plain": [
       "array([[[-0.0147371 , -0.0524712 , -0.0297504 , ..., -0.0042178 ,\n",
       "          0.0668819 , -0.0136827 ],\n",
       "        [-0.0265963 , -0.0167253 , -0.0688487 , ..., -0.0375365 ,\n",
       "         -0.0471593 , -0.0073507 ],\n",
       "        [ 0.0004202 , -0.0573342 ,  0.0080893 , ..., -0.0176494 ,\n",
       "         -0.0299409 , -0.0282863 ],\n",
       "        ...,\n",
       "        [ 0.0013195 , -0.0405317 , -0.0390152 , ..., -0.0215854 ,\n",
       "         -0.0513047 ,  0.0802165 ],\n",
       "        [ 0.0013195 , -0.0405317 , -0.0390152 , ..., -0.0215854 ,\n",
       "         -0.0513047 ,  0.0802165 ],\n",
       "        [ 0.0013195 , -0.0405317 , -0.0390152 , ..., -0.0215854 ,\n",
       "         -0.0513047 ,  0.0802165 ]],\n",
       "\n",
       "       [[-0.0842272 ,  0.0433275 ,  0.0215392 , ...,  0.0525097 ,\n",
       "          0.0721814 ,  0.0056338 ],\n",
       "        [ 0.0129542 , -0.18601809, -0.0117232 , ..., -0.0946064 ,\n",
       "          0.025498  ,  0.0967165 ],\n",
       "        [-0.0357206 , -0.0546785 ,  0.0011175 , ..., -0.0987406 ,\n",
       "          0.0186785 , -0.0030732 ],\n",
       "        ...,\n",
       "        [ 0.0013195 , -0.0405317 , -0.0390152 , ..., -0.0215854 ,\n",
       "         -0.0513047 ,  0.0802165 ],\n",
       "        [ 0.0013195 , -0.0405317 , -0.0390152 , ..., -0.0215854 ,\n",
       "         -0.0513047 ,  0.0802165 ],\n",
       "        [ 0.0013195 , -0.0405317 , -0.0390152 , ..., -0.0215854 ,\n",
       "         -0.0513047 ,  0.0802165 ]],\n",
       "\n",
       "       [[ 0.0320348 ,  0.0616189 , -0.0296191 , ...,  0.0515008 ,\n",
       "         -0.0328051 ,  0.0136542 ],\n",
       "        [-0.0879374 , -0.0497294 , -0.046055  , ..., -0.0264061 ,\n",
       "         -0.0677902 ,  0.0387061 ],\n",
       "        [-0.019396  ,  0.0309933 ,  0.013278  , ...,  0.0344221 ,\n",
       "         -0.1086447 , -0.0537845 ],\n",
       "        ...,\n",
       "        [ 0.0013195 , -0.0405317 , -0.0390152 , ..., -0.0215854 ,\n",
       "         -0.0513047 ,  0.0802165 ],\n",
       "        [ 0.0013195 , -0.0405317 , -0.0390152 , ..., -0.0215854 ,\n",
       "         -0.0513047 ,  0.0802165 ],\n",
       "        [ 0.0013195 , -0.0405317 , -0.0390152 , ..., -0.0215854 ,\n",
       "         -0.0513047 ,  0.0802165 ]],\n",
       "\n",
       "       ...,\n",
       "\n",
       "       [[-0.0122844 , -0.0270318 ,  0.006527  , ..., -0.0523087 ,\n",
       "          0.0425797 ,  0.0758306 ],\n",
       "        [ 0.0260125 ,  0.0367797 , -0.0259881 , ..., -0.0991805 ,\n",
       "         -0.0087361 ,  0.0322771 ],\n",
       "        [-0.0372515 , -0.0580735 ,  0.0213074 , ...,  0.0696737 ,\n",
       "          0.0817349 , -0.0549915 ],\n",
       "        ...,\n",
       "        [ 0.0013195 , -0.0405317 , -0.0390152 , ..., -0.0215854 ,\n",
       "         -0.0513047 ,  0.0802165 ],\n",
       "        [ 0.0013195 , -0.0405317 , -0.0390152 , ..., -0.0215854 ,\n",
       "         -0.0513047 ,  0.0802165 ],\n",
       "        [ 0.0013195 , -0.0405317 , -0.0390152 , ..., -0.0215854 ,\n",
       "         -0.0513047 ,  0.0802165 ]],\n",
       "\n",
       "       [[-0.057644  , -0.034979  ,  0.0066032 , ...,  0.0262343 ,\n",
       "         -0.0094586 , -0.0498986 ],\n",
       "        [ 0.0227018 , -0.0562086 ,  0.0188575 , ..., -0.0994285 ,\n",
       "         -0.0949245 ,  0.0187438 ],\n",
       "        [ 0.0546295 ,  0.006041  ,  0.03881   , ..., -0.0716007 ,\n",
       "         -0.0292705 ,  0.0113431 ],\n",
       "        ...,\n",
       "        [ 0.0013195 , -0.0405317 , -0.0390152 , ..., -0.0215854 ,\n",
       "         -0.0513047 ,  0.0802165 ],\n",
       "        [ 0.0013195 , -0.0405317 , -0.0390152 , ..., -0.0215854 ,\n",
       "         -0.0513047 ,  0.0802165 ],\n",
       "        [ 0.0013195 , -0.0405317 , -0.0390152 , ..., -0.0215854 ,\n",
       "         -0.0513047 ,  0.0802165 ]],\n",
       "\n",
       "       [[-0.0203504 ,  0.0053019 ,  0.0333353 , ..., -0.0142866 ,\n",
       "          0.0143183 ,  0.0437169 ],\n",
       "        [ 0.0034885 , -0.0864535 , -0.0158671 , ...,  0.0236882 ,\n",
       "          0.176311  , -0.0271767 ],\n",
       "        [ 0.0295419 , -0.0093884 , -0.1025569 , ..., -0.0971606 ,\n",
       "          0.0238152 ,  0.0100767 ],\n",
       "        ...,\n",
       "        [ 0.0013195 , -0.0405317 , -0.0390152 , ..., -0.0215854 ,\n",
       "         -0.0513047 ,  0.0802165 ],\n",
       "        [ 0.0013195 , -0.0405317 , -0.0390152 , ..., -0.0215854 ,\n",
       "         -0.0513047 ,  0.0802165 ],\n",
       "        [ 0.0013195 , -0.0405317 , -0.0390152 , ..., -0.0215854 ,\n",
       "         -0.0513047 ,  0.0802165 ]]])"
      ]
     },
     "metadata": {},
     "execution_count": 18
    }
   ],
   "source": [
    "np.array(wordtoken_features)"
   ]
  },
  {
   "cell_type": "code",
   "execution_count": 19,
   "metadata": {},
   "outputs": [],
   "source": [
    "words_token_shape = np.array(wordtoken_features).shape[1]"
   ]
  },
  {
   "cell_type": "code",
   "execution_count": null,
   "metadata": {},
   "outputs": [],
   "source": [
    "# np.array(pos_features).shape"
   ]
  },
  {
   "cell_type": "markdown",
   "metadata": {},
   "source": [
    "### All features"
   ]
  },
  {
   "cell_type": "code",
   "execution_count": null,
   "metadata": {},
   "outputs": [],
   "source": [
    "# #Now join them all up\n",
    "features = np.array(wordtoken_features)\n",
    "#features = np.concatenate([wordtoken_features, pos_features], axis=1)\n",
    "wordtoken_features = None\n",
    "pos_features = None\n",
    "# ft_pos_model = None"
   ]
  },
  {
   "cell_type": "code",
   "execution_count": null,
   "metadata": {},
   "outputs": [],
   "source": [
    "features.shape"
   ]
  },
  {
   "cell_type": "code",
   "execution_count": null,
   "metadata": {},
   "outputs": [],
   "source": [
    "features[0]\n"
   ]
  },
  {
   "cell_type": "markdown",
   "metadata": {},
   "source": [
    "## Save features & labels"
   ]
  },
  {
   "cell_type": "code",
   "execution_count": null,
   "metadata": {},
   "outputs": [],
   "source": [
    "archive = dir_archive('hsd/Reddit/X_y_{}'.format(MODEL), {'features': features, 'labels': labels,\n",
    "                                                                'wt_num': words_token_shape}, serialized=True)\n",
    "archive.dump()\n",
    "del archive"
   ]
  },
  {
   "cell_type": "code",
   "execution_count": null,
   "metadata": {},
   "outputs": [],
   "source": []
  }
 ],
 "metadata": {
  "kernelspec": {
   "display_name": "Python 3",
   "language": "python",
   "name": "python3"
  },
  "language_info": {
   "codemirror_mode": {
    "name": "ipython",
    "version": 3
   },
   "file_extension": ".py",
   "mimetype": "text/x-python",
   "name": "python",
   "nbconvert_exporter": "python",
   "pygments_lexer": "ipython3",
   "version": "3.6.9-final"
  }
 },
 "nbformat": 4,
 "nbformat_minor": 2
}