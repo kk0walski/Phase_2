{
 "cells": [
  {
   "cell_type": "markdown",
   "metadata": {},
   "source": [
    "# Hate Speech Detector - EN - Features extraction for Conv. & LSTM model"
   ]
  },
  {
   "cell_type": "markdown",
   "metadata": {},
   "source": [
    "Based on [this notebook](https://github.com/t-davidson/hate-speech-and-offensive-language/blob/master/classifier/final_classifier.ipynb)."
   ]
  },
  {
   "cell_type": "code",
   "execution_count": 1,
   "metadata": {},
   "outputs": [],
   "source": [
    "import os\n",
    "import pandas as pd\n",
    "import csv\n",
    "import numpy as np\n",
    "import pickle\n",
    "from klepto.archives import dir_archive\n",
    "import sys\n",
    "import nltk\n",
    "import string\n",
    "import re\n",
    "import fasttext\n",
    "from pymagnitude import *\n",
    "\n",
    "from nltk.corpus import stopwords\n",
    "from nltk.tokenize import sent_tokenize, word_tokenize\n",
    "from nltk.stem import WordNetLemmatizer\n",
    "from nltk.corpus import wordnet\n",
    "\n",
    "from tqdm.notebook import tqdm\n",
    "%matplotlib inline"
   ]
  },
  {
   "cell_type": "code",
   "execution_count": 2,
   "metadata": {},
   "outputs": [],
   "source": [
    "MODEL = 'lstm'"
   ]
  },
  {
   "cell_type": "markdown",
   "metadata": {},
   "source": [
    "## Davidson et al. data loading"
   ]
  },
  {
   "cell_type": "markdown",
   "metadata": {},
   "source": [
    "### Classes pre:\n",
    "    0 - hate speech\n",
    "    1 - offensive language\n",
    "    2 - neither"
   ]
  },
  {
   "cell_type": "code",
   "execution_count": 3,
   "metadata": {},
   "outputs": [],
   "source": [
    "if not os.path.exists('hsd/Reddit/perfect_data.pkl'):\n",
    "    tweets, labels = [], []\n",
    "    with open('hsd/Reddit/clean_data.csv', 'r') as f:\n",
    "        for d in list(csv.reader(f))[1:]:\n",
    "            tweets.append(d[1])  # tweet\n",
    "            labels.append(d[2])  # class\n",
    "    with open('hsd/Reddit/perfect_data.pkl', 'wb') as f:\n",
    "        def chcl(c):\n",
    "            return 0 if c=='2' else 1\n",
    "        labels = list(map(chcl, labels))\n",
    "        pickle.dump((tweets, labels), f)\n",
    "else:\n",
    "    with open('hsd/Reddit/perfect_data.pkl', 'rb') as f:\n",
    "        tweets, labels = pickle.load(f)"
   ]
  },
  {
   "cell_type": "markdown",
   "metadata": {},
   "source": [
    "### Classes post:\n",
    "    0 - no hate\n",
    "    1 - hate speech"
   ]
  },
  {
   "cell_type": "code",
   "execution_count": 4,
   "metadata": {},
   "outputs": [
    {
     "output_type": "stream",
     "name": "stdout",
     "text": [
      "Tweets: 79915\nLabels: 79915\n"
     ]
    }
   ],
   "source": [
    "print('Tweets: {}'.format(len(tweets)))\n",
    "print('Labels: {}'.format(len(labels)))"
   ]
  },
  {
   "cell_type": "code",
   "execution_count": 5,
   "metadata": {},
   "outputs": [
    {
     "output_type": "execute_result",
     "data": {
      "text/plain": [
       "[(\"i joined gab to remind myself how retarded jew haters are. You wouldn't be typing on your abacus without them you retard.\",\n",
       "  0),\n",
       " ('This is what the left is really scared of.    https://redd.it/9rfkts', 0),\n",
       " ('That literally looks like a monkey. Why are we supposed to pretend it’s a person bc it’s wearing a red hat?',\n",
       "  0),\n",
       " ('Dumb Cunt', 0),\n",
       " ('It makes you an asshole.', 0)]"
      ]
     },
     "metadata": {},
     "execution_count": 5
    }
   ],
   "source": [
    "list(zip(tweets[:5], labels[:5]))"
   ]
  },
  {
   "cell_type": "markdown",
   "metadata": {},
   "source": [
    "## Features extraction"
   ]
  },
  {
   "cell_type": "code",
   "execution_count": 6,
   "metadata": {},
   "outputs": [],
   "source": [
    "def pos_tagger(nltk_tag): \n",
    "    if nltk_tag.startswith('J'): \n",
    "        return wordnet.ADJ \n",
    "    elif nltk_tag.startswith('V'): \n",
    "        return wordnet.VERB \n",
    "    elif nltk_tag.startswith('N'): \n",
    "        return wordnet.NOUN \n",
    "    elif nltk_tag.startswith('R'): \n",
    "        return wordnet.ADV \n",
    "    else:           \n",
    "        return None\n",
    "\n",
    "def word_tokenization(tweet):\n",
    "    lemmatizer = WordNetLemmatizer() \n",
    "    tokens = word_tokenize(tweet)\n",
    "    words = [word for word in tokens if word.isalpha()]\n",
    "    # stop_words = set(stopwords.words('english'))\n",
    "    # words = [w for w in words if not w in stop_words]\n",
    "    tags = nltk.pos_tag(words)\n",
    "    # words = [lemmatizer.lemmatize(w[0]) if pos_tagger(w[1]) is None else lemmatizer.lemmatize(w[0], pos_tagger(w[1])) for w in tags]\n",
    "    tags = [x[1] for x in tags]\n",
    "    return words, tags\n",
    "\n",
    "def preprocess(text_string):\n",
    "    \"\"\"\n",
    "    Accepts a text string and replaces:\n",
    "    1) urls with URLHERE\n",
    "    2) lots of whitespace with one instance\n",
    "    3) mentions with MENTIONHERE\n",
    "    4) hashtags with HASHTAGHERE\n",
    "\n",
    "    This allows us to get standardized counts of urls and mentions\n",
    "    Without caring about specific people mentioned\n",
    "    \"\"\"\n",
    "    space_pattern = '\\s+'\n",
    "    giant_url_regex = ('http[s]?://(?:[a-zA-Z]|[0-9]|[$-_@.&+]|'\n",
    "        '[!*\\(\\),]|(?:%[0-9a-fA-F][0-9a-fA-F]))+')\n",
    "    mention_regex = '@[\\w\\-]+'\n",
    "    hashtag_regex = '#[\\w\\-]+'\n",
    "    parsed_text = text_string.encode('ascii', 'ignore').decode('ascii')\n",
    "    parsed_text = re.sub(space_pattern, ' ', parsed_text)\n",
    "    parsed_text = re.sub(giant_url_regex, '', parsed_text)\n",
    "    parsed_text = re.sub(mention_regex, '', parsed_text)\n",
    "    parsed_text = re.sub(hashtag_regex, '', parsed_text)\n",
    "    list_words, tag_list = word_tokenization(parsed_text)\n",
    "    parsed_text = \" \".join(list_words)\n",
    "    tag_str = ' '.join(tag_list)\n",
    "    return parsed_text, tag_str\n",
    "\n",
    "def basic_tokenize(tweet):\n",
    "    tweet = \" \".join(re.split(\" \", tweet.lower())).strip()\n",
    "    return tweet.split()\n",
    "\n",
    "# def get_pos_string(tweet):\n",
    "#     text = preprocess(tweet)\n",
    "#     tokens = word_tokenize(text)\n",
    "#     tags = nltk.pos_tag(tokens)\n",
    "#     tag_list = [x[1] for x in tags]\n",
    "#     tag_str = ' '.join(tag_list)\n",
    "    \n",
    "    # return tag_str\n",
    "\n",
    "def pad_words(words, length):\n",
    "    if len(words) >= length:\n",
    "        return words[:length]\n",
    "    else:\n",
    "        additional = length - len(words)\n",
    "        return words + ['EMPTY']*additional"
   ]
  },
  {
   "cell_type": "markdown",
   "metadata": {},
   "source": [
    "### Median sentences length"
   ]
  },
  {
   "cell_type": "code",
   "execution_count": 7,
   "metadata": {},
   "outputs": [],
   "source": [
    "def median_sentences_length(data):\n",
    "    all_lengths, wt_lengths, pos_lengths = [], [], []\n",
    "    for d in data:\n",
    "        sentence, pos_string = preprocess(d)\n",
    "        # sentence = preprocess(d)\n",
    "        # pos_string = get_pos_string(d)\n",
    "        all_lengths.append(len(sentence.split(' ')))\n",
    "        all_lengths.append(len(pos_string.split(' ')))\n",
    "        wt_lengths.append(len(sentence.split(' ')))\n",
    "        pos_lengths.append(len(pos_string.split(' ')))\n",
    "    \n",
    "    return int(np.median(all_lengths)), int(np.median(wt_lengths)), int(np.median(pos_lengths))"
   ]
  },
  {
   "cell_type": "code",
   "execution_count": 8,
   "metadata": {},
   "outputs": [
    {
     "output_type": "stream",
     "name": "stdout",
     "text": [
      "Optimal all length: 16\nOptimal sentence length: 16\nOptimal pos sentence length: 16\n"
     ]
    }
   ],
   "source": [
    "opt_length, opt_wt_length, opt_pos_length = median_sentences_length(tweets)\n",
    "dim = 6*50 if MODEL == 'conv' else 300\n",
    "\n",
    "print('Optimal all length: {}'.format(opt_length))\n",
    "print('Optimal sentence length: {}'.format(opt_wt_length))\n",
    "print('Optimal pos sentence length: {}'.format(opt_pos_length))"
   ]
  },
  {
   "cell_type": "markdown",
   "metadata": {},
   "source": [
    "### Supervised fastText wordtokens training"
   ]
  },
  {
   "cell_type": "code",
   "execution_count": 9,
   "metadata": {},
   "outputs": [
    {
     "output_type": "stream",
     "name": "stderr",
     "text": [
      "Warning : `load_model` does not return WordVectorModel or SupervisedModel any more, but a `FastText` object which is very similar.\n"
     ]
    }
   ],
   "source": [
    "if not os.path.exists('hsd/Reddit/fasttext.ft'):\n",
    "    with open('hsd/Reddit/fasttext.ft', 'a') as f:\n",
    "        for t, l in list(zip(tweets, labels)):\n",
    "            f.write('__label__{} {}\\n'.format(l, preprocess(t)[0]))\n",
    "\n",
    "# load fasttext model or train & save if none\n",
    "if os.path.exists('hsd/Reddit/fasttext_{}.bin'.format(MODEL)):\n",
    "    ft_model = fasttext.load_model('hsd/Reddit/fasttext_{}.bin'.format(MODEL))\n",
    "else:\n",
    "    ft_model = fasttext.train_supervised('hsd/Reddit/fasttext.ft',\n",
    "                                         lr=0.5, epoch=50, wordNgrams=3, dim=dim)\n",
    "    ft_model.save_model('hsd/Reddit/fasttext_{}.bin'.format(MODEL))"
   ]
  },
  {
   "cell_type": "markdown",
   "metadata": {},
   "source": [
    "### Wordtoken features"
   ]
  },
  {
   "cell_type": "code",
   "execution_count": 10,
   "metadata": {},
   "outputs": [],
   "source": [
    "def get_wordtoken_fts(data, length):\n",
    "    \n",
    "    sentences_words = []\n",
    "    for d in data:\n",
    "        sentence = preprocess(d)[0]\n",
    "        sentences_words.append(sentence.split(' '))\n",
    "    \n",
    "    sentences_words = [pad_words(sw, length) for sw in sentences_words]\n",
    "    vecs = Magnitude(MagnitudeUtils.download_model('http://magnitude.plasticity.ai/fasttext/medium/crawl-300d-2M.magnitude'))\n",
    "    \n",
    "    ft_matrices = []\n",
    "    for sw in sentences_words:\n",
    "        ft_matrix = []\n",
    "        for w in sw:\n",
    "            ft_matrix.append(vecs.query(w))\n",
    "        ft_matrices.append(ft_matrix)\n",
    "    \n",
    "    return ft_matrices"
   ]
  },
  {
   "cell_type": "code",
   "execution_count": 11,
   "metadata": {},
   "outputs": [],
   "source": [
    "wordtoken_features = get_wordtoken_fts(tweets, opt_wt_length)"
   ]
  },
  {
   "cell_type": "code",
   "execution_count": 12,
   "metadata": {},
   "outputs": [
    {
     "output_type": "execute_result",
     "data": {
      "text/plain": [
       "02, -1.139940e-02,  1.323700e-02, -5.497250e-02,\n",
       "        -1.560410e-02, -5.590690e-02, -2.292340e-02,  1.317470e-02,\n",
       "        -7.879910e-02,  4.790240e-02,  1.438940e-02,  4.154860e-02,\n",
       "         2.152180e-02,  1.611488e-01, -2.192670e-02,  4.126830e-02,\n",
       "         2.828050e-02, -4.276330e-02, -8.565100e-03, -2.700350e-02,\n",
       "         3.450960e-02,  1.414646e-01,  1.554180e-02, -7.721070e-02,\n",
       "         3.189962e-01, -4.313710e-02,  5.740190e-02,  1.837600e-03,\n",
       "        -1.174200e-02,  1.694340e-02, -1.342390e-02, -1.753510e-02,\n",
       "         5.917700e-03, -2.289220e-02,  1.127480e-02, -8.073010e-02,\n",
       "        -4.609590e-02,  4.889900e-02,  9.764240e-02, -1.488770e-02,\n",
       "         2.223820e-02, -5.858540e-02,  1.549819e-01, -1.055850e-02,\n",
       "         4.329300e-03,  1.102564e-01, -5.568880e-02, -9.991600e-02,\n",
       "        -2.238766e-01, -1.148037e-01,  1.155512e-01,  6.032960e-02,\n",
       "         1.984927e-01, -2.865420e-02,  7.534190e-02,  2.416920e-02,\n",
       "        -3.074100e-02, -6.836520e-02, -3.485220e-02,  9.250300e-03,\n",
       "        -6.758700e-03, -2.286110e-02, -5.487910e-02,  1.218116e-01,\n",
       "        -2.180200e-03, -6.014270e-02, -6.447200e-03, -2.996230e-02,\n",
       "        -2.057809e-01,  3.893200e-03, -3.145730e-02,  3.046070e-02,\n",
       "        -2.594450e-02,  1.183500e-03,  1.641390e-02, -2.055630e-02,\n",
       "         6.107710e-02,  5.285460e-02, -9.536870e-02,  3.843400e-02,\n",
       "        -3.799800e-03, -1.999570e-02, -1.177310e-02, -6.562440e-02,\n",
       "         1.787770e-02,  7.285020e-02,  3.837170e-02, -6.553090e-02,\n",
       "         7.935970e-02,  1.320590e-02, -2.933940e-02,  4.594020e-02,\n",
       "         8.901490e-02, -1.887440e-02,  9.967000e-04, -3.021200e-03,\n",
       "         1.881210e-02, -4.198470e-02,  1.286330e-02, -4.354200e-02,\n",
       "         1.340830e-01, -2.180000e-04, -1.376650e-02,  2.435610e-02,\n",
       "         4.752860e-02,  2.958900e-03,  2.055600e-03, -5.606260e-02,\n",
       "        -1.171085e-01, -4.967770e-02, -4.793350e-02,  1.378517e-01,\n",
       "        -5.419400e-03,  2.170870e-02,  2.712810e-02,  4.036510e-02,\n",
       "        -2.491670e-02, -1.731710e-02, -5.154640e-02, -5.002030e-02,\n",
       "        -8.035640e-02,  7.095030e-02,  1.357960e-02,  1.161740e-02,\n",
       "        -4.173500e-03,  1.899900e-03,  2.448070e-02, -9.272130e-02,\n",
       "        -3.675210e-02,  1.270750e-02, -2.522800e-03, -3.721930e-02,\n",
       "         9.814070e-02,  2.096120e-02, -7.814500e-02,  1.856290e-02,\n",
       "        -5.895920e-02,  5.914600e-02,  2.722150e-02,  5.858540e-02,\n",
       "        -3.500800e-02,  3.672100e-02,  1.557290e-02, -4.622050e-02,\n",
       "        -5.603150e-02,  4.142400e-03, -3.180000e-02, -5.107930e-02,\n",
       "         3.485220e-02,  4.179780e-02,  4.164210e-02,  1.320590e-02,\n",
       "         2.634940e-02, -5.777560e-02,  2.815590e-02,  4.827610e-02,\n",
       "         1.663190e-02, -7.070100e-03, -3.379330e-02, -4.796500e-03,\n",
       "         4.161090e-02,  6.064100e-02, -6.459660e-02, -4.450750e-02,\n",
       "        -7.699260e-02, -8.222500e-03, -1.329930e-02, -4.148630e-02,\n",
       "         3.678330e-02, -1.183500e-03,  1.292550e-02,  1.025634e-01,\n",
       "         3.457190e-02,  4.609600e-03,  1.884330e-02,  3.158190e-02,\n",
       "         1.192890e-02,  4.921100e-03,  9.468300e-03,  8.035600e-03,\n",
       "        -6.705710e-02,  4.640700e-03,  6.235410e-02,  1.982747e-01,\n",
       "        -2.927700e-03,  1.062070e-02,  3.080330e-02, -7.774010e-02,\n",
       "        -5.606000e-04, -9.250300e-03, -6.391140e-02,  1.121250e-02,\n",
       "        -1.426480e-02,  6.120170e-02,  5.058090e-02,  3.796680e-02,\n",
       "         6.219830e-02,  2.977550e-02, -3.553750e-02,  2.121030e-02,\n",
       "         5.269880e-02,  2.457410e-02, -1.463900e-03, -3.024270e-02,\n",
       "        -4.812040e-02,  2.307910e-02, -1.398450e-02, -1.162365e-01,\n",
       "         9.960450e-02, -8.811170e-02, -2.329710e-02,  1.186660e-02,\n",
       "        -1.233380e-02,  6.699480e-02, -6.858320e-02,  4.967770e-02,\n",
       "        -8.655440e-02, -2.765750e-02,  1.949730e-02, -8.565100e-03,\n",
       "         2.198900e-02,  2.267420e-02,  5.540850e-02, -1.675650e-02,\n",
       "         2.270540e-02, -1.915470e-02,  5.266770e-02,  3.778000e-02,\n",
       "         1.083880e-02, -9.265900e-02,  3.292120e-02, -1.030930e-02,\n",
       "         3.616040e-02,  6.363100e-02, -2.261190e-02, -1.762860e-02,\n",
       "        -1.376650e-02,  1.862520e-02,  3.183110e-02, -1.491890e-02,\n",
       "        -2.965090e-02, -5.793140e-02, -8.347100e-03, -1.430842e-01,\n",
       "         2.161520e-02, -8.144650e-02, -5.824300e-03, -2.619370e-02,\n",
       "         3.485220e-02, -4.020930e-02,  2.905910e-02, -1.217800e-02,\n",
       "         2.737720e-02, -1.236180e-01,  8.708390e-02, -4.774660e-02,\n",
       "         1.681880e-02, -2.183330e-02, -1.485660e-02,  2.479210e-02,\n",
       "        -1.311240e-02,  5.596920e-02, -5.886600e-03,  6.574900e-02,\n",
       "         1.974650e-02, -7.119950e-02, -2.385770e-02, -1.169840e-01,\n",
       "         2.292340e-02,  8.689700e-03, -6.110820e-02, -9.032000e-04],\n",
       "       dtype=float32),\n",
       " array([-3.744630e-02, -4.004900e-02,  3.741400e-03, -3.773900e-03,\n",
       "        -8.231000e-03, -4.294400e-03,  8.270070e-02, -1.291590e-02,\n",
       "         1.757796e-01, -8.784000e-04, -3.328200e-02,  4.073220e-02,\n",
       "        -3.985380e-02, -2.091920e-02,  1.987810e-02,  1.542100e-02,\n",
       "        -2.407500e-03,  2.859710e-02,  5.725900e-03,  2.983340e-02,\n",
       "        -1.675490e-02,  1.760070e-02,  1.073600e-03, -2.527870e-02,\n",
       "        -2.521360e-02,  3.936600e-03, -2.443280e-02, -1.314360e-02,\n",
       "         2.846700e-02,  4.704370e-02, -4.170820e-02, -1.213510e-02,\n",
       "         8.732050e-02, -8.143190e-02, -3.139500e-02, -1.106100e-03,\n",
       "        -5.189130e-02, -2.537600e-03,  2.911770e-02,  4.297700e-02,\n",
       "         1.294840e-02,  4.040690e-02,  4.157810e-02, -8.380680e-02,\n",
       "         1.623430e-02,  6.018700e-03, -1.952000e-03, -1.883700e-02,\n",
       "        -8.816600e-03,  4.255410e-02,  2.316400e-02, -1.332580e-01,\n",
       "         3.302170e-02, -4.522200e-03, -1.659220e-02, -2.433520e-02,\n",
       "        -3.155800e-03,  5.683640e-02, -2.049600e-03,  2.931290e-02,\n",
       "         4.398560e-02,  8.289590e-02, -3.448600e-03, -1.295492e-01,\n",
       "         1.272070e-02, -1.171200e-03, -2.603000e-04, -5.465700e-03,\n",
       "        -4.291200e-02, -5.351790e-02,  1.953649e-01,  2.440030e-02,\n",
       "        -1.909730e-02,  1.076866e-01, -1.190730e-02, -1.604562e-01,\n",
       "         8.227770e-02, -4.043940e-02,  1.002363e-01,  2.684030e-02,\n",
       "         1.353077e-01, -2.836940e-02,  3.666550e-02, -3.152520e-02,\n",
       "         1.233030e-02,  3.448600e-03,  1.418470e-02, -5.823500e-03,\n",
       "         6.409100e-03, -7.287500e-03,  2.316400e-02,  2.488830e-02,\n",
       "        -3.351000e-03,  9.955300e-03,  2.404240e-02, -1.424980e-02,\n",
       "        -1.840432e-01,  5.547000e-02, -1.522577e-01,  1.119160e-02,\n",
       "        -1.291590e-02,  5.205000e-04,  1.106146e-01,  3.285900e-02,\n",
       "        -1.877190e-02, -2.469310e-02, -1.825140e-02,  3.315180e-02,\n",
       "         3.708800e-03,  1.538840e-02, -8.065100e-02,  1.674184e-01,\n",
       "         1.398950e-02,  1.005290e-02, -3.047757e-01, -1.237257e-01,\n",
       "         5.527480e-02,  3.331450e-02,  1.369670e-02, -1.483540e-02,\n",
       "        -2.017100e-03, -3.240360e-02,  1.552834e-01, -2.524620e-02,\n",
       "        -1.372920e-02,  1.239530e-02,  5.237930e-02,  3.549430e-02,\n",
       "         3.412790e-02, -4.958140e-02, -7.931720e-02, -2.196020e-02,\n",
       "         6.929700e-03,  1.327380e-02, -3.181800e-02, -6.246500e-03,\n",
       "        -1.987810e-02,  5.400600e-03,  1.939010e-02, -7.925210e-02,\n",
       "         9.181010e-02,  1.324120e-02,  4.717400e-03,  5.781240e-02,\n",
       "        -1.685250e-02, -1.437990e-02, -4.401810e-02, -1.193990e-02,\n",
       "        -5.140320e-02,  4.655570e-02,  5.634840e-02,  5.758500e-03,\n",
       "         7.515300e-03,  2.026850e-02,  1.756800e-03, -5.953700e-03,\n",
       "        -1.311110e-02, -2.801150e-02,  5.303000e-03, -2.892250e-02,\n",
       "         3.636943e-01,  3.198060e-02, -4.255410e-02, -5.917880e-02,\n",
       "         9.239600e-03,  3.751140e-02, -3.006110e-02,  3.562440e-02,\n",
       "         1.366400e-03, -1.060600e-02,  7.255000e-03,  2.895500e-03,\n",
       "         1.317610e-02,  5.986200e-03,  2.192770e-02, -3.119980e-02,\n",
       "        -2.375000e-03, -7.808000e-04, -5.660900e-03, -1.431500e-03,\n",
       "         1.897040e-01, -3.211080e-02, -2.212300e-03,  9.922800e-03,\n",
       "         1.834900e-02,  2.667800e-03, -2.752350e-02, -7.785310e-02,\n",
       "        -9.320910e-02, -2.361950e-02, -7.059800e-03, -3.269640e-02,\n",
       "        -9.900010e-02, -7.938200e-03, -1.249290e-02, -6.773520e-02,\n",
       "        -2.830430e-02, -2.065890e-02,  7.547800e-03,  2.885740e-02,\n",
       "         3.490870e-02, -9.109400e-03,  3.071180e-02,  6.275750e-02,\n",
       "        -1.626690e-02, -1.929250e-02, -2.531120e-02,  9.857700e-03,\n",
       "         2.921530e-02,  9.210290e-02,  5.856100e-03,  2.210340e-01,\n",
       "         2.443280e-02,  1.063850e-02,  8.979300e-03,  1.102890e-02,\n",
       "        -3.058170e-02,  9.564900e-03,  2.257840e-02,  3.243610e-02,\n",
       "        -5.504700e-02,  1.597400e-02, -1.460760e-02, -1.431500e-03,\n",
       "         4.372530e-02, -1.272070e-02, -2.378210e-02,  2.043120e-02,\n",
       "        -2.937790e-02,  4.610030e-02, -2.196020e-02,  2.244830e-02,\n",
       "        -1.274345e-01, -2.644990e-02, -9.435000e-04,  1.442544e-01,\n",
       "         5.381070e-02, -8.621400e-03, -2.075650e-02,  9.044400e-03,\n",
       "        -2.280610e-02,  4.925600e-02, -5.813770e-02,  2.017100e-03,\n",
       "        -1.529409e-01, -9.154980e-02,  1.191384e-01,  6.897100e-03,\n",
       "         4.382290e-02,  1.093130e-02,  2.368450e-02,  1.467270e-02,\n",
       "        -1.184230e-02,  1.734050e-02, -3.858500e-02,  2.472600e-03,\n",
       "        -4.291200e-02,  5.530700e-03, -9.044400e-03,  1.002040e-02,\n",
       "         8.849200e-03,  3.155770e-02,  2.797900e-03, -8.003300e-03,\n",
       "        -3.969100e-03,  4.483140e-02, -2.381470e-02, -4.128530e-02,\n",
       "        -5.504700e-02, -2.036610e-02, -3.546200e-03, -6.171640e-02,\n",
       "         8.100900e-03, -3.253000e-04,  6.571800e-03, -2.505100e-02,\n",
       "         3.233850e-02,  2.186260e-02,  6.897140e-02,  2.947550e-02,\n",
       "         2.641740e-02,  2.589680e-02,  8.686500e-03, -7.352600e-03,\n",
       "         2.980090e-02, -2.235070e-02, -2.160240e-02,  4.232630e-02,\n",
       "         3.110220e-02, -2.176500e-02, -4.815000e-03,  2.771870e-02,\n",
       "        -1.216760e-02,  2.147220e-02,  1.978050e-02, -4.675090e-02,\n",
       "         2.531120e-02, -1.019281e-01,  1.262310e-02,  1.561600e-03],\n",
       "       dtype=float32),\n",
       " array([-5.799570e-02,  1.992120e-02,  7.438100e-03, -4.245110e-02,\n",
       "         7.845580e-02, -3.350380e-02,  3.964830e-02,  3.772950e-02,\n",
       "        -2.375880e-02,  3.044230e-02,  1.290565e-01,  5.984980e-02,\n",
       "         1.159698e-01,  1.397070e-02,  6.015200e-03, -5.189430e-02,\n",
       "         3.505610e-02,  5.549470e-02, -1.063757e-01,  1.040041e-01,\n",
       "        -5.090250e-02,  5.329560e-02,  6.295400e-03, -7.767970e-02,\n",
       "        -5.875030e-02, -4.807800e-03, -7.489850e-02, -2.914880e-02,\n",
       "         7.183700e-02,  5.029880e-02, -8.194850e-02,  2.136570e-02,\n",
       "         4.079100e-02, -7.520030e-02, -9.837700e-02,  1.344896e-01,\n",
       "         1.072165e-01,  6.491630e-02,  1.823950e-02, -1.457440e-02,\n",
       "        -2.587200e-03, -2.880380e-02, -1.908040e-02, -3.274920e-02,\n",
       "         3.729830e-02,  7.722690e-02,  9.809680e-02,  7.373400e-03,\n",
       "        -9.917000e-04, -3.557400e-03, -1.726930e-02, -6.590810e-02,\n",
       "         1.330235e-01, -5.737040e-02,  2.520330e-02,  2.802760e-02,\n",
       "        -7.718400e-03, -1.729090e-02, -7.985720e-02, -1.138350e-02,\n",
       "        -3.509920e-02, -1.964090e-02,  3.594010e-02, -1.082730e-01,\n",
       "         7.127650e-02, -9.160730e-02, -1.080140e-02,  8.947300e-03,\n",
       "        -2.714370e-02,  1.082300e-02, -4.473640e-02, -9.098210e-02,\n",
       "        -1.899410e-02,  6.355810e-02, -5.827590e-02,  2.061110e-02,\n",
       "        -1.310616e-01, -1.196560e-02,  5.010480e-02, -3.061500e-03,\n",
       "        -2.024460e-02,  6.077690e-02, -7.890900e-03, -6.030260e-02,\n",
       "        -1.228473e-01,  7.185860e-02, -4.372310e-02,  3.315890e-02,\n",
       "         1.059014e-01,  1.770050e-02, -1.938220e-02,  6.855990e-02,\n",
       "         5.851310e-02,  3.729800e-03,  9.270700e-03,  3.671620e-02,\n",
       "         6.705100e-03, -3.854880e-02,  6.215670e-02,  9.943350e-02,\n",
       "         3.926030e-02, -1.780830e-02, -1.012876e-01,  1.328080e-02,\n",
       "         1.524270e-02,  2.666940e-02,  5.709020e-02,  5.853470e-02,\n",
       "         2.981710e-02, -9.710500e-02, -3.742770e-02, -1.306520e-02,\n",
       "         2.936430e-02, -1.040688e-01, -4.279610e-02, -1.409791e-01,\n",
       "        -8.000810e-02,  6.899100e-03, -5.691770e-02, -3.486210e-02,\n",
       "        -4.165340e-02,  5.935390e-02, -3.277080e-02,  6.597300e-03,\n",
       "         6.252320e-02, -2.824320e-02,  2.233590e-02, -1.362570e-02,\n",
       "         1.237960e-01,  2.104230e-02, -2.388820e-02,  3.660840e-02,\n",
       "         4.725890e-02,  8.533340e-02, -3.816100e-03, -3.171440e-02,\n",
       "         6.806410e-02,  3.731990e-02,  4.687080e-02, -1.277198e-01,\n",
       "        -9.460410e-02, -3.363320e-02, -1.733400e-02,  8.511780e-02,\n",
       "        -5.678830e-02,  3.423680e-02, -1.132964e-01,  8.675630e-02,\n",
       "         5.060070e-02,  2.748870e-02,  1.834302e-01,  7.351900e-03,\n",
       "         2.705750e-02, -9.658800e-03,  3.881000e-04,  2.237900e-02,\n",
       "        -3.050700e-02,  5.987140e-02,  6.310530e-02,  6.963800e-03,\n",
       "         8.910640e-02,  2.382350e-02, -9.863580e-02,  8.830860e-02,\n",
       "        -3.578910e-02,  1.920970e-02,  9.203850e-02, -4.980300e-03,\n",
       "        -6.144500e-03, -3.964830e-02, -4.613800e-03,  6.808560e-02,\n",
       "        -9.231880e-02, -1.032064e-01, -1.041335e-01,  2.669090e-02,\n",
       "        -4.165340e-02, -1.992120e-02,  4.594380e-02,  1.940380e-02,\n",
       "        -2.334920e-02, -5.698240e-02, -3.121850e-02,  3.033450e-02,\n",
       "        -4.859560e-02, -6.877550e-02, -8.731700e-03, -4.816440e-02,\n",
       "         3.266300e-02, -6.877600e-03,  8.977470e-02,  1.360420e-02,\n",
       "        -5.454600e-03,  8.925700e-03,  4.592220e-02, -1.252620e-02,\n",
       "         1.910190e-02,  1.830420e-02, -5.771540e-02,  5.120440e-02,\n",
       "         3.565980e-02,  1.369040e-02, -3.537950e-02,  1.744180e-02,\n",
       "        -5.829750e-02, -4.143780e-02, -3.298600e-03, -7.222510e-02,\n",
       "         2.572080e-02,  7.265600e-03,  2.043860e-02,  1.229982e-01,\n",
       "         4.020890e-02, -7.599800e-02,  7.910260e-02, -5.249790e-02,\n",
       "        -1.608360e-02,  4.385250e-02, -6.252000e-04, -3.691030e-02,\n",
       "         3.076570e-02,  8.598020e-02,  3.378410e-02, -5.959110e-02,\n",
       "        -1.103860e-02,  3.848410e-02, -6.771910e-02, -4.529700e-02,\n",
       "         2.485840e-02, -3.650060e-02,  4.887590e-02,  6.564940e-02,\n",
       "         2.889000e-03, -6.094930e-02,  3.902310e-02, -6.985400e-03,\n",
       "        -5.831910e-02,  4.730200e-02,  2.487990e-02,  1.040041e-01,\n",
       "        -1.240978e-01,  2.281020e-02, -3.363300e-03,  6.032410e-02,\n",
       "         4.402500e-02,  1.250680e-01,  7.429480e-02, -4.503830e-02,\n",
       "         9.904540e-02, -1.243349e-01, -3.158500e-02,  4.512450e-02,\n",
       "         7.632140e-02, -2.143040e-02, -5.678830e-02,  8.181920e-02,\n",
       "        -9.430220e-02,  1.210148e-01,  2.412530e-02, -3.425840e-02,\n",
       "        -5.023400e-03, -7.142740e-02,  4.286070e-02, -2.272400e-02,\n",
       "         1.875700e-02,  2.973090e-02,  1.470370e-02,  2.274550e-02,\n",
       "        -3.596160e-02,  4.329190e-02, -9.421600e-03,  1.294000e-04,\n",
       "        -3.440930e-02,  3.695340e-02, -3.488360e-02,  4.033830e-02,\n",
       "        -5.790940e-02, -1.349640e-02,  4.941490e-02,  9.475500e-02,\n",
       "        -6.681360e-02,  3.104600e-02, -1.259090e-02, -1.767900e-03,\n",
       "        -6.284660e-02, -4.447770e-02, -4.708640e-02, -3.050700e-02,\n",
       "        -2.884690e-02,  4.428370e-02, -1.297680e-01,  1.241840e-02,\n",
       "         6.730950e-02,  9.702000e-04, -1.662250e-02,  4.618090e-02,\n",
       "         2.960150e-02,  4.943650e-02,  8.843800e-02, -1.239680e-02],\n",
       "       dtype=float32),\n",
       " array([-2.241200e-03, -1.313298e-01,  9.181900e-03, -6.065820e-02,\n",
       "         2.140030e-02,  3.610000e-05, -1.262327e-01, -1.310044e-01,\n",
       "         4.663200e-03,  8.278100e-03,  4.305360e-02,  4.843980e-02,\n",
       "         4.533100e-02, -9.434900e-03, -9.399000e-04,  2.696720e-02,\n",
       "        -1.106160e-02,  2.024400e-03, -1.261600e-02,  1.366440e-02,\n",
       "        -1.608640e-02, -1.333900e-02, -1.738770e-02,  2.819600e-03,\n",
       "        -1.019410e-02,  4.663200e-03, -1.999050e-02, -8.422700e-03,\n",
       "         2.844940e-02,  9.214410e-02, -1.051940e-02,  3.267880e-02,\n",
       "         3.553460e-02,  4.243910e-02,  2.458100e-03,  3.361900e-03,\n",
       "        -1.670090e-02,  2.215940e-02,  2.284620e-02,  2.566590e-02,\n",
       "         5.277800e-03, -1.261966e-01, -1.326670e-02, -1.538145e-01,\n",
       "        -7.953000e-04,  3.976000e-04,  4.200530e-02, -7.772100e-03,\n",
       "         1.482100e-03, -5.299460e-02,  1.699000e-03,  9.246950e-02,\n",
       "        -1.200874e-01, -1.189310e-02, -1.518260e-02, -2.411150e-02,\n",
       "         1.518300e-03, -1.521155e-01,  2.891930e-02, -1.930360e-02,\n",
       "         2.008807e-01, -1.836375e-01, -7.591000e-04, -3.878800e-02,\n",
       "        -1.460420e-02,  4.963270e-02, -1.022659e-01, -8.531200e-03,\n",
       "        -7.710610e-02,  1.518300e-03, -1.328119e-01,  1.521880e-02,\n",
       "         7.746760e-02,  1.825530e-02, -8.025100e-03, -1.333900e-02,\n",
       "        -2.123399e-01, -5.997140e-02, -1.253651e-01, -1.160390e-02,\n",
       "         3.360061e-01,  4.699000e-04, -2.035200e-02, -7.338300e-03,\n",
       "        -1.460420e-02,  1.948440e-02,  1.843610e-02, -2.494300e-03,\n",
       "         7.157500e-03,  5.581420e-02, -1.655630e-02,  9.048120e-02,\n",
       "         1.554410e-02,  2.284620e-02, -1.265200e-03,  6.109200e-03,\n",
       "        -1.691780e-02, -4.952400e-03,  7.692530e-02,  3.936640e-02,\n",
       "         9.037000e-04,  1.008560e-02, -4.659620e-02,  9.760000e-04,\n",
       "        -3.163050e-02,  5.386200e-03,  2.978690e-02,  3.398000e-03,\n",
       "         8.639600e-03, -5.031960e-02, -1.807095e-01, -2.172560e-02,\n",
       "        -2.237630e-02,  2.060500e-02, -1.862764e-01, -1.337500e-03,\n",
       "        -6.904500e-03, -1.265200e-03,  5.064490e-02, -2.262930e-02,\n",
       "         1.345832e-01,  2.487060e-02,  1.217502e-01,  8.820400e-03,\n",
       "        -1.196540e-02, -1.735200e-03, -8.784200e-03,  2.479830e-02,\n",
       "         1.170509e-01,  1.286910e-02, -3.238960e-02, -6.507000e-04,\n",
       "         4.265600e-03,  6.785190e-02,  5.039190e-02, -4.421040e-02,\n",
       "         5.935690e-02,  2.942540e-02,  9.796400e-03, -7.999800e-02,\n",
       "         2.859400e-02,  1.605020e-02,  2.732870e-02,  1.555858e-01,\n",
       "        -1.868910e-02,  1.113390e-02, -7.840740e-02,  2.158100e-02,\n",
       "        -5.404290e-02, -2.722030e-02, -1.023020e-02,  2.711180e-02,\n",
       "        -6.506800e-03,  4.337890e-02,  2.689490e-02, -2.103880e-02,\n",
       "        -4.240290e-02,  6.145000e-04, -9.290300e-03,  9.001100e-03,\n",
       "         1.666474e-01,  4.482490e-02, -1.373670e-02, -5.024700e-03,\n",
       "        -1.012180e-02,  1.677320e-02,  1.731540e-02, -2.020740e-02,\n",
       "         6.145000e-04, -3.980020e-02,  2.982300e-02, -1.286910e-02,\n",
       "        -7.078000e-02,  3.571530e-02, -2.682260e-02,  2.985920e-02,\n",
       "        -2.414760e-02,  9.688000e-03, -3.578800e-03, -1.858060e-02,\n",
       "         5.729640e-02,  2.168900e-03,  1.807460e-02, -5.061000e-04,\n",
       "         2.566600e-03,  6.868300e-03,  8.216700e-02, -5.483820e-02,\n",
       "        -9.243330e-02, -9.724100e-03,  1.702620e-02, -4.663200e-03,\n",
       "         3.614910e-02,  5.097000e-03, -4.952430e-02, -2.074960e-02,\n",
       "        -1.644780e-02, -2.682260e-02, -1.955670e-02, -2.711200e-03,\n",
       "         5.975450e-02, -2.834090e-02, -1.655630e-02, -6.843030e-02,\n",
       "         1.460420e-02,  1.095320e-02, -3.759500e-03,  1.268830e-02,\n",
       "        -6.170650e-02,  4.511410e-02,  1.626700e-03,  1.677681e-01,\n",
       "        -2.494290e-02, -3.893260e-02, -5.277800e-03, -3.289600e-03,\n",
       "         7.121400e-03, -8.097400e-03, -2.443680e-02,  4.410190e-02,\n",
       "         2.787100e-02, -7.121400e-03,  5.422000e-04,  1.832760e-02,\n",
       "        -6.669510e-02,  1.084000e-04,  3.398000e-03,  2.624430e-02,\n",
       "        -2.118340e-02, -7.276820e-02, -1.312210e-02,  2.928080e-02,\n",
       "         1.197259e-01,  2.096650e-02, -2.436450e-02, -2.906390e-02,\n",
       "        -2.082190e-02, -5.313900e-03,  1.507420e-02, -2.570200e-02,\n",
       "        -6.723700e-03, -4.005320e-02, -2.422000e-03,  2.646120e-02,\n",
       "         5.939300e-02, -6.507000e-04,  1.905782e-01,  1.680930e-02,\n",
       "         1.980970e-02,  1.467650e-02,  1.923130e-02, -6.817720e-02,\n",
       "        -4.764450e-02, -1.684550e-02,  4.663200e-03,  1.597790e-02,\n",
       "        -3.210040e-02, -4.218600e-02,  3.369100e-02,  4.269210e-02,\n",
       "        -1.608640e-02,  9.471100e-03, -1.952100e-03, -1.109780e-02,\n",
       "        -6.109200e-03,  6.781570e-02,  2.313500e-03, -3.575150e-02,\n",
       "         1.789743e-01,  2.241200e-03, -5.530800e-03,  1.004950e-02,\n",
       "         1.247140e-02, -1.449580e-02, -1.442350e-02,  1.055550e-02,\n",
       "         8.798700e-02,  2.407530e-02,  4.142690e-02,  9.651800e-03,\n",
       "         3.434200e-03, -4.988600e-03,  8.133600e-03, -3.820960e-02,\n",
       "         9.091500e-02,  3.325720e-02,  3.188350e-02,  1.218230e-02,\n",
       "         1.919520e-02,  4.569250e-02,  9.796400e-03, -7.338300e-03,\n",
       "         4.157100e-03, -1.813601e-01,  6.174270e-02,  2.566600e-03,\n",
       "         7.085200e-03, -1.006392e-01, -3.972790e-02,  5.494700e-03],\n",
       "       dtype=float32)]"
      ]
     },
     "metadata": {},
     "execution_count": 12
    }
   ],
   "source": [
    "wordtoken_features[0]"
   ]
  },
  {
   "cell_type": "markdown",
   "metadata": {},
   "source": [
    "### Supervised fastText pos training"
   ]
  },
  {
   "cell_type": "code",
   "execution_count": 13,
   "metadata": {},
   "outputs": [
    {
     "output_type": "stream",
     "name": "stderr",
     "text": [
      "Warning : `load_model` does not return WordVectorModel or SupervisedModel any more, but a `FastText` object which is very similar.\n"
     ]
    }
   ],
   "source": [
    "if not os.path.exists('hsd/Reddit/fasttext_pos.ft'):\n",
    "    with open('hsd/Reddit/fasttext_pos.ft', 'a') as f:\n",
    "        for t, l in list(zip(tweets, labels)):\n",
    "            f.write('__label__{} {}\\n'.format(l, preprocess(t)[1]))\n",
    "\n",
    "# load fasttext pos model or train & save if none\n",
    "if os.path.exists('hsd/Reddit/fasttext_pos_{}.bin'.format(MODEL)):\n",
    "    ft_pos_model = fasttext.load_model('hsd/Reddit/fasttext_pos_{}.bin'.format(MODEL))\n",
    "else:\n",
    "    ft_pos_model = fasttext.train_supervised('hsd/Reddit/fasttext_pos.ft',\n",
    "                                             lr=0.5, epoch=50, wordNgrams=3, dim=dim)\n",
    "    ft_pos_model.save_model('hsd/Reddit/fasttext_pos_{}.bin'.format(MODEL))"
   ]
  },
  {
   "cell_type": "markdown",
   "metadata": {},
   "source": [
    "### Part of speech (PoS) features"
   ]
  },
  {
   "cell_type": "code",
   "execution_count": 14,
   "metadata": {},
   "outputs": [],
   "source": [
    "def get_pos_fts(data, length):\n",
    "\n",
    "    #Get POS tags for tweets and save as a string\n",
    "    pos_sentences = []\n",
    "    for d in data:\n",
    "        pos_string = preprocess(d)[1]\n",
    "        pos_sentences.append(pos_string)\n",
    "        \n",
    "        \n",
    "    pos_tags = []\n",
    "    for ps in pos_sentences:\n",
    "        pos_tags.append(ps.split(' '))\n",
    "    \n",
    "    pos_tags = [pad_words(pt, length) for pt in pos_tags]\n",
    "    vecs = Magnitude(MagnitudeUtils.download_model('http://magnitude.plasticity.ai/fasttext/medium/crawl-300d-2M.magnitude'))\n",
    "    \n",
    "    ft_matrices = []\n",
    "    for pt in pos_tags:\n",
    "        ft_matrix = []\n",
    "        for t in pt:\n",
    "            ft_matrix.append(vecs.query(t))\n",
    "        ft_matrices.append(ft_matrix)\n",
    "    \n",
    "    return ft_matrices"
   ]
  },
  {
   "cell_type": "code",
   "execution_count": 15,
   "metadata": {},
   "outputs": [],
   "source": [
    "# pos_features = get_pos_fts(tweets, opt_pos_length)"
   ]
  },
  {
   "cell_type": "code",
   "execution_count": 16,
   "metadata": {},
   "outputs": [],
   "source": [
    "# pos_features[0]"
   ]
  },
  {
   "cell_type": "code",
   "execution_count": 17,
   "metadata": {},
   "outputs": [
    {
     "output_type": "execute_result",
     "data": {
      "text/plain": [
       "(79915, 16, 300)"
      ]
     },
     "metadata": {},
     "execution_count": 17
    }
   ],
   "source": [
    "np.array(wordtoken_features).shape"
   ]
  },
  {
   "cell_type": "code",
   "execution_count": 18,
   "metadata": {},
   "outputs": [],
   "source": [
    "# np.array(pos_features).shape"
   ]
  },
  {
   "cell_type": "markdown",
   "metadata": {},
   "source": [
    "### All features"
   ]
  },
  {
   "cell_type": "code",
   "execution_count": 19,
   "metadata": {},
   "outputs": [],
   "source": [
    "# #Now join them all up\n",
    "features = np.array(wordtoken_features)\n",
    "# features = np.concatenate([wordtoken_features, pos_features], axis=1)"
   ]
  },
  {
   "cell_type": "code",
   "execution_count": 20,
   "metadata": {},
   "outputs": [
    {
     "output_type": "execute_result",
     "data": {
      "text/plain": [
       "(79915, 16, 300)"
      ]
     },
     "metadata": {},
     "execution_count": 20
    }
   ],
   "source": [
    "features.shape"
   ]
  },
  {
   "cell_type": "code",
   "execution_count": 21,
   "metadata": {},
   "outputs": [
    {
     "output_type": "execute_result",
     "data": {
      "text/plain": [
       "array([[-0.13831291,  0.0253904 , -0.0224353 , ..., -0.0090946 ,\n",
       "        -0.0456453 , -0.0373253 ],\n",
       "       [ 0.0305197 , -0.0764269 , -0.0918143 , ...,  0.052006  ,\n",
       "         0.0136522 , -0.043585  ],\n",
       "       [-0.0265963 , -0.0167253 , -0.0688487 , ..., -0.0375365 ,\n",
       "        -0.0471593 , -0.0073507 ],\n",
       "       ...,\n",
       "       [-0.0374463 , -0.040049  ,  0.0037414 , ..., -0.1019281 ,\n",
       "         0.0126231 ,  0.0015616 ],\n",
       "       [-0.0579957 ,  0.0199212 ,  0.0074381 , ...,  0.0494365 ,\n",
       "         0.088438  , -0.0123968 ],\n",
       "       [-0.0022412 , -0.1313298 ,  0.0091819 , ..., -0.1006392 ,\n",
       "        -0.0397279 ,  0.0054947 ]])"
      ]
     },
     "metadata": {},
     "execution_count": 21
    }
   ],
   "source": [
    "features[0]\n"
   ]
  },
  {
   "cell_type": "markdown",
   "metadata": {},
   "source": [
    "## Save features & labels"
   ]
  },
  {
   "cell_type": "code",
   "execution_count": 22,
   "metadata": {},
   "outputs": [],
   "source": [
    "archive = dir_archive('hsd/Reddit/X_y_{}'.format(MODEL), {'features': features, 'labels': labels,\n",
    "                                                                'wt_num': np.array(wordtoken_features).shape[1]}, serialized=True)\n",
    "archive.dump()\n",
    "del archive"
   ]
  },
  {
   "cell_type": "code",
   "execution_count": null,
   "metadata": {},
   "outputs": [],
   "source": []
  }
 ],
 "metadata": {
  "kernelspec": {
   "display_name": "Python 3",
   "language": "python",
   "name": "python3"
  },
  "language_info": {
   "codemirror_mode": {
    "name": "ipython",
    "version": 2
   },
   "file_extension": ".py",
   "mimetype": "text/x-python",
   "name": "python",
   "nbconvert_exporter": "python",
   "pygments_lexer": "ipython2",
   "version": "3.8.6-final"
  }
 },
 "nbformat": 4,
 "nbformat_minor": 2
}